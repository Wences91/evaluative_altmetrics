{
 "cells": [
  {
   "cell_type": "markdown",
   "id": "e17a7f33-e83c-44ee-b12d-5716e7bc3855",
   "metadata": {},
   "source": [
    "# Packages"
   ]
  },
  {
   "cell_type": "code",
   "execution_count": null,
   "id": "9dd1897a-b021-4e39-9605-b73b51ffe9f5",
   "metadata": {},
   "outputs": [],
   "source": [
    "import pandas as pd\n",
    "import botometer\n",
    "import tweepy\n",
    "from functions_alt import tweeters_metadata, tweets_metadata, twitter_bots"
   ]
  },
  {
   "cell_type": "markdown",
   "id": "1bdda9fd-5376-471a-903e-f275e932245d",
   "metadata": {},
   "source": [
    "# 1. Altmetric mentions"
   ]
  },
  {
   "cell_type": "markdown",
   "id": "5eb2c5e1-ca98-4e98-a94e-a6af3fe85e72",
   "metadata": {},
   "source": [
    "There are 12,413 Twitter mentions."
   ]
  },
  {
   "cell_type": "code",
   "execution_count": null,
   "id": "ce449c04-053c-404b-85ab-aab1b2adca50",
   "metadata": {},
   "outputs": [],
   "source": [
    "df = pd.read_csv('data/twitter_mentions.tsv', sep='\\t', encoding='UTF-8', dtype={'Outlet or Author':'string', 'External Mention ID':'string'})\n",
    "df.shape"
   ]
  },
  {
   "cell_type": "markdown",
   "id": "dc74e8c3-8633-463b-b2c0-bd39e0ba7022",
   "metadata": {},
   "source": [
    "These tweets are published by 7391 unique tweeters."
   ]
  },
  {
   "cell_type": "code",
   "execution_count": null,
   "id": "294c0cf6-66fd-470a-9ccf-2723100b3160",
   "metadata": {},
   "outputs": [],
   "source": [
    "df[['Outlet or Author']].drop_duplicates().shape"
   ]
  },
  {
   "cell_type": "markdown",
   "id": "6c16bca6-df3b-41a2-a1ca-ed6adf0436b1",
   "metadata": {},
   "source": [
    "# 2. Twitter API metadata"
   ]
  },
  {
   "cell_type": "code",
   "execution_count": null,
   "id": "dcfb54f7-670a-44c6-92ae-acf4f65de555",
   "metadata": {},
   "outputs": [],
   "source": [
    "auth = tweepy.AppAuthHandler(consumer_key='',\n",
    "                             consumer_secret='')\n",
    "client = tweepy.API(auth, wait_on_rate_limit=True,\n",
    "                   parser=tweepy.parsers.JSONParser())"
   ]
  },
  {
   "cell_type": "markdown",
   "id": "d22d1a42-a625-46bf-a869-7e5b7dd29029",
   "metadata": {},
   "source": [
    "## 2.1. Tweeters"
   ]
  },
  {
   "cell_type": "code",
   "execution_count": null,
   "id": "4484bbf6-6962-4c86-a719-5c909b4694ee",
   "metadata": {},
   "outputs": [],
   "source": [
    "fields_to_retrieve = ['id', 'id_str', 'name', 'screen_name', 'location', 'description',\n",
    "                      'url', 'protected', 'followers_count', 'friends_count',\n",
    "                      'listed_count', 'created_at', 'favourites_count',\n",
    "                      'verified', 'statuses_count', 'lang', 'is_translator',\n",
    "                      'is_translation_enabled', 'default_profile', 'default_profile_image']"
   ]
  },
  {
   "cell_type": "code",
   "execution_count": null,
   "id": "46a87300-e50e-405a-8cde-b98f85ea097d",
   "metadata": {},
   "outputs": [],
   "source": [
    "tweeters = tweeters_metadata(fields_to_retrieve, df[['Outlet or Author']].drop_duplicates(), client)"
   ]
  },
  {
   "cell_type": "code",
   "execution_count": null,
   "id": "72624f89-ae16-4d16-886e-2ea0d5625a34",
   "metadata": {},
   "outputs": [],
   "source": [
    "tweeters.shape"
   ]
  },
  {
   "cell_type": "code",
   "execution_count": null,
   "id": "4c18cf2a-57a9-4bb3-a3c0-b820a9769b11",
   "metadata": {},
   "outputs": [],
   "source": [
    "tweeters.to_csv('data/Twitter/tweeters_metadata.tsv', sep='\\t', index=False, encoding='UTF-8', escapechar='\\\\')"
   ]
  },
  {
   "cell_type": "markdown",
   "id": "e3b49a54-2836-4277-bf90-be85c04bab43",
   "metadata": {},
   "source": [
    "## 2.2. Tweets"
   ]
  },
  {
   "cell_type": "code",
   "execution_count": null,
   "id": "2098e038-42a3-420a-8111-7e5e62bfe075",
   "metadata": {},
   "outputs": [],
   "source": [
    "fields_to_retrieve = ['created_at', 'id', 'id_str', 'text', 'source',\n",
    "                      'in_reply_to_status_id_str', 'in_reply_to_user_id_str', 'is_quote_status', 'retweet_count', 'favorite_count', 'retweeted_status.id', 'retweeted',\n",
    "                      'lang', 'geo', 'place', 'contributors', \n",
    "                      'user.id', 'user.id_str']"
   ]
  },
  {
   "cell_type": "code",
   "execution_count": null,
   "id": "7554daca-9eee-47ec-a3ad-14b41a098fda",
   "metadata": {},
   "outputs": [],
   "source": [
    "tweets = tweets_metadata(fields_to_retrieve, df[['External Mention ID']].drop_duplicates(), client)"
   ]
  },
  {
   "cell_type": "code",
   "execution_count": null,
   "id": "0fa15362-d967-4b71-8c70-c4a36f6bb70e",
   "metadata": {},
   "outputs": [],
   "source": [
    "tweets.shape"
   ]
  },
  {
   "cell_type": "code",
   "execution_count": null,
   "id": "3f7a5177-6ee6-4ad9-a6ef-042876e8af31",
   "metadata": {},
   "outputs": [],
   "source": [
    "tweets.to_csv('data/Twitter/tweets_metadata.tsv', sep='\\t', index=False, encoding='UTF-8', escapechar='\\\\')"
   ]
  },
  {
   "cell_type": "markdown",
   "id": "472e7065-521f-42b9-ad1e-a1c1318813ed",
   "metadata": {},
   "source": [
    "# 3. Botometer API"
   ]
  },
  {
   "cell_type": "markdown",
   "id": "7167a932-168e-488b-9008-71828eac0b3f",
   "metadata": {},
   "source": [
    "The Botometer API query was chunked into 4 parts of 2000 accounts each."
   ]
  },
  {
   "cell_type": "code",
   "execution_count": null,
   "id": "5f0409ff-89e4-4243-9b9c-90c13e98ac31",
   "metadata": {},
   "outputs": [],
   "source": [
    "rapidapi_key = ''\n",
    "twitter_app_auth = {\n",
    "    'consumer_key': '',\n",
    "    'consumer_secret': '',\n",
    "    'access_token': '',\n",
    "    'access_token_secret': '',\n",
    "  }\n",
    "  \n",
    "blt_twitter = botometer.Botometer(wait_on_ratelimit=True, rapidapi_key=rapidapi_key, **twitter_app_auth)"
   ]
  },
  {
   "cell_type": "code",
   "execution_count": null,
   "id": "32c670c0-8891-48cc-87b3-765b3ea9064e",
   "metadata": {},
   "outputs": [],
   "source": [
    "tweeters = pd.read_csv('data/Twitter/tweeters_metadata.tsv', sep='\\t', encoding='UTF-8', escapechar='\\\\', dtype={'id_str':'string'})"
   ]
  },
  {
   "cell_type": "code",
   "execution_count": null,
   "id": "2bcc0991-5f64-4691-814d-a91699cc6e9c",
   "metadata": {},
   "outputs": [],
   "source": [
    "#tw_bots_1 = twitter_bots(tweeters['id_str'].tolist()[0:2000], blt_twitter)\n",
    "#tw_bots_2 = twitter_bots(tweeters['id_str'].tolist()[2000:4000], blt_twitter)\n",
    "#tw_bots_3 = twitter_bots(tweeters['id_str'].tolist()[4000:6000], blt_twitter)\n",
    "tw_bots_4 = twitter_bots(tweeters['id_str'].tolist()[6000:7309], blt_twitter)"
   ]
  },
  {
   "cell_type": "code",
   "execution_count": null,
   "id": "172b8a89-3b2d-4e10-a6a9-81ed8b2deea2",
   "metadata": {},
   "outputs": [],
   "source": [
    "#tw_bots_1.to_csv('data/Twitter/tweeters_bots_1.tsv', sep='\\t', index=False, encoding='UTF-8')\n",
    "#tw_bots_2.to_csv('data/Twitter/tweeters_bots_2.tsv', sep='\\t', index=False, encoding='UTF-8')\n",
    "#tw_bots_3.to_csv('data/Twitter/tweeters_bots_3.tsv', sep='\\t', index=False, encoding='UTF-8')\n",
    "tw_bots_4.to_csv('data/Twitter/tweeters_bots_4.tsv', sep='\\t', index=False, encoding='UTF-8')"
   ]
  }
 ],
 "metadata": {
  "kernelspec": {
   "display_name": "Python 3 (ipykernel)",
   "language": "python",
   "name": "python3"
  },
  "language_info": {
   "codemirror_mode": {
    "name": "ipython",
    "version": 3
   },
   "file_extension": ".py",
   "mimetype": "text/x-python",
   "name": "python",
   "nbconvert_exporter": "python",
   "pygments_lexer": "ipython3",
   "version": "3.9.7"
  }
 },
 "nbformat": 4,
 "nbformat_minor": 5
}
