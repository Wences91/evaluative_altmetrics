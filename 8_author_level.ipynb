{
 "cells": [
  {
   "cell_type": "markdown",
   "id": "4d34a3a7-4bad-4c23-8c67-e424ab142760",
   "metadata": {},
   "source": [
    "# Packages"
   ]
  },
  {
   "cell_type": "code",
   "execution_count": null,
   "id": "27073de2-e89b-4ec4-bd45-291171ae2025",
   "metadata": {},
   "outputs": [],
   "source": [
    "import pandas as pd"
   ]
  },
  {
   "cell_type": "markdown",
   "id": "db99181d-722d-4e14-8c71-3ec59cdad9f2",
   "metadata": {},
   "source": [
    "# Import data"
   ]
  },
  {
   "cell_type": "markdown",
   "id": "f17783dc-2fb4-48ec-a0bf-c7dcf3afa0ac",
   "metadata": {},
   "source": [
    "## 1. Authors"
   ]
  },
  {
   "cell_type": "code",
   "execution_count": null,
   "id": "9487eaa5-ff8c-41f9-b9e0-ed95e6573a80",
   "metadata": {},
   "outputs": [],
   "source": [
    "df_wos = pd.read_csv('data/publications.csv', sep=',', encoding='UTF-8', dtype={'Accession Number':'str', 'Publication Date':'Int32'})\n",
    "df_wos['Accession Number'] = df_wos['Accession Number'].str.replace('WOS:', '')\n",
    "df_wos['DOI'] = df_wos['DOI'].str.lower()\n",
    "df_wos.shape"
   ]
  },
  {
   "cell_type": "code",
   "execution_count": null,
   "id": "63970fbc-40bc-4ed5-8fdc-80dc0d0be97e",
   "metadata": {},
   "outputs": [],
   "source": [
    "df_ap = pd.read_csv('data/Authors/authors_papers.tsv', sep='\\t', dtype=({'paper_id':'str', 'author_id':'str'}))\n",
    "df_ap.shape"
   ]
  },
  {
   "cell_type": "markdown",
   "id": "1bdd1a85-7326-4ca4-871b-96bac26ad2a9",
   "metadata": {},
   "source": [
    "1869 UGR authors."
   ]
  },
  {
   "cell_type": "code",
   "execution_count": null,
   "id": "139904f6-1685-4a87-b5cf-5f40ca8e0ab0",
   "metadata": {},
   "outputs": [],
   "source": [
    "df_aut = pd.read_csv('data/Authors/authors.tsv', sep='\\t', dtype=({'paper_id':'str', 'author_id':'str'}))\n",
    "df_aut.shape"
   ]
  },
  {
   "cell_type": "code",
   "execution_count": null,
   "id": "1d2d4ce9-d7aa-4e34-af85-49beb7a52a59",
   "metadata": {},
   "outputs": [],
   "source": [
    "df_aut[df_aut['author_id'].isin(df_ap['author_id'].tolist())].shape"
   ]
  },
  {
   "cell_type": "code",
   "execution_count": null,
   "id": "d4c84153-bd81-4f20-8092-753863c9719b",
   "metadata": {},
   "outputs": [],
   "source": [
    "df_ap_sp = df_ap.merge(df_aut, how='inner', on='author_id')[['paper_id', 'new_author_id']].drop_duplicates().reset_index(drop=True)\n",
    "df_ap_sp.shape"
   ]
  },
  {
   "cell_type": "markdown",
   "id": "1eb5982b-3337-4644-ad20-9f5024d51de7",
   "metadata": {},
   "source": [
    "1899 papers."
   ]
  },
  {
   "cell_type": "code",
   "execution_count": null,
   "id": "8b39d9fe-6ca6-4e59-a0d8-0469c2221b69",
   "metadata": {},
   "outputs": [],
   "source": [
    "len(set(df_ap_sp.paper_id))"
   ]
  },
  {
   "cell_type": "code",
   "execution_count": null,
   "id": "05c5a8cb-bfe4-4c4a-8f69-de9e51c15fc9",
   "metadata": {},
   "outputs": [],
   "source": [
    "df_wos[df_wos['Accession Number'].isin(df_ap['paper_id'].tolist())].shape"
   ]
  },
  {
   "cell_type": "code",
   "execution_count": null,
   "id": "17081911-27e9-4c27-9dbd-360e0acfdc53",
   "metadata": {},
   "outputs": [],
   "source": [
    "df_ap[df_ap['paper_id'].isin(df_wos['Accession Number'].tolist())].shape"
   ]
  },
  {
   "cell_type": "markdown",
   "id": "7ae7743a-99e1-472c-8eaa-19b3146e87ab",
   "metadata": {},
   "source": [
    "# 2. Analysis"
   ]
  },
  {
   "cell_type": "markdown",
   "id": "cd1f1bb7-2f81-4e80-b5e6-96cd1063df3e",
   "metadata": {},
   "source": [
    "## 2.1. Twitter"
   ]
  },
  {
   "cell_type": "code",
   "execution_count": null,
   "id": "3d5d75ec-b80e-4a86-a4bf-e64430a696b0",
   "metadata": {},
   "outputs": [],
   "source": [
    "df_tw_m = pd.read_csv('data/Twitter/publications_metrics.tsv', sep='\\t', encoding='UTF-8', dtype={'Outlet or Author':'string', 'External Mention ID':'string'})\n",
    "df_tw_m['DOI'] = df_tw_m['DOI'].str.lower()\n",
    "df_tw_m.shape"
   ]
  },
  {
   "cell_type": "code",
   "execution_count": null,
   "id": "3d26a91c-c5f9-4da3-9fa8-ac27e60cb69b",
   "metadata": {},
   "outputs": [],
   "source": [
    "df_tw_m[df_tw_m['DOI'].isin(df_wos['DOI'].tolist())].shape"
   ]
  },
  {
   "cell_type": "code",
   "execution_count": null,
   "id": "a735a443-0594-4830-a425-1d37ff743585",
   "metadata": {},
   "outputs": [],
   "source": [
    "df_tw_m = df_tw_m.merge(df_wos[['DOI', 'Accession Number']], how='inner', on='DOI').drop_duplicates().reset_index(drop=True)\n",
    "df_tw_m.shape"
   ]
  },
  {
   "cell_type": "code",
   "execution_count": null,
   "id": "35497d4d-2977-41dc-8b5e-d7a29cac070c",
   "metadata": {},
   "outputs": [],
   "source": [
    "df_tw_m = df_tw_m.merge(df_ap_sp, how='inner', left_on='Accession Number', right_on='paper_id')"
   ]
  },
  {
   "cell_type": "code",
   "execution_count": null,
   "id": "bc9ba783-f318-4e15-a9cf-e0ab95434413",
   "metadata": {},
   "outputs": [],
   "source": [
    "df_tw_m['local'] = 0\n",
    "df_tw_m.loc[df_tw_m['lang_y']=='es', 'local'] = 1"
   ]
  },
  {
   "cell_type": "code",
   "execution_count": null,
   "id": "c48bcf1c-442d-4889-b592-458cefa195dd",
   "metadata": {},
   "outputs": [],
   "source": [
    "df_tw_stats_1 = df_tw_m[~df_tw_m['is_retweet']].groupby(['new_author_id']).agg(Tweets=('new_author_id', 'count'),\n",
    "                                                                               Papers=('Details Page URL', 'nunique'),\n",
    "                                                                               Local=('local', 'sum'),\n",
    "                                                                               Avg_fav=('favorite_count', 'mean'),\n",
    "                                                                               Avg_RT=('retweet_count', 'mean'),\n",
    "                                                                               Avg_fw=('followers_count', 'mean')).round(2).reset_index()"
   ]
  },
  {
   "cell_type": "code",
   "execution_count": null,
   "id": "34f29cd0-30eb-4b7e-b7d5-ba718f052c56",
   "metadata": {},
   "outputs": [],
   "source": [
    "df_tw_stats_2 = df_tw_m[df_tw_m['is_retweet']].groupby(['new_author_id']).agg(Retweets=('new_author_id', 'count')).round(2).reset_index()"
   ]
  },
  {
   "cell_type": "code",
   "execution_count": null,
   "id": "b1183045-7789-47e2-87ec-7c12fae92448",
   "metadata": {},
   "outputs": [],
   "source": [
    "df_tw_stats = df_tw_stats_1.merge(df_tw_stats_2, how='outer', on='new_author_id')\n",
    "df_tw_stats.fillna(0, inplace=True)\n",
    "df_tw_stats['Mentions'] = df_tw_stats['Tweets'] + df_tw_stats['Retweets']"
   ]
  },
  {
   "cell_type": "code",
   "execution_count": null,
   "id": "161ead50-5f10-4562-b1d9-502046bec21e",
   "metadata": {},
   "outputs": [],
   "source": [
    "df_tw_stats.to_csv('data/Authors/tweets_metrics.tsv', sep='\\t', index=False)"
   ]
  },
  {
   "cell_type": "code",
   "execution_count": null,
   "id": "f131723e-4ec6-4cd0-bbf5-14467b5d2c28",
   "metadata": {},
   "outputs": [],
   "source": [
    "df_tw_stats_3 = df_tw_m.groupby(['new_author_id', 'Type']).agg(Mentions=('new_author_id', 'count')).round(2).reset_index()"
   ]
  },
  {
   "cell_type": "code",
   "execution_count": null,
   "id": "d3acfd23-99c8-4abf-8152-295290c0c89b",
   "metadata": {},
   "outputs": [],
   "source": [
    "df_tw_stats_3.to_csv('data/Authors/tweets_types.tsv', sep='\\t', index=False)"
   ]
  },
  {
   "cell_type": "markdown",
   "id": "637faa88-b990-4133-8e95-451144a8f037",
   "metadata": {},
   "source": [
    "## 2.2. News"
   ]
  },
  {
   "cell_type": "code",
   "execution_count": null,
   "id": "3522e1c5-9612-4e64-a133-258073b2b974",
   "metadata": {},
   "outputs": [],
   "source": [
    "df_nw_m = pd.read_csv('data/News/publications_metrics.tsv', sep='\\t', encoding='UTF-8', dtype={'Outlet or Author':'string', 'External Mention ID':'string'})\n",
    "df_nw_m['DOI'] = df_nw_m['DOI'].str.lower()\n",
    "df_nw_m.shape"
   ]
  },
  {
   "cell_type": "code",
   "execution_count": null,
   "id": "a055f5bf-6bd6-463b-a3c1-a91f48cd4d56",
   "metadata": {},
   "outputs": [],
   "source": [
    "df_nw_m[df_nw_m['DOI'].isin(df_wos['DOI'].tolist())].shape"
   ]
  },
  {
   "cell_type": "code",
   "execution_count": null,
   "id": "adbfaf76-904c-4414-bd25-4a2188dcde3b",
   "metadata": {},
   "outputs": [],
   "source": [
    "df_nw_m = df_nw_m.merge(df_wos[['DOI', 'Accession Number']], how='inner', on='DOI').drop_duplicates().reset_index(drop=True)\n",
    "df_nw_m.shape"
   ]
  },
  {
   "cell_type": "code",
   "execution_count": null,
   "id": "eb2d0f94-885c-4811-a13f-c2577320db57",
   "metadata": {},
   "outputs": [],
   "source": [
    "df_nw_m = df_nw_m.merge(df_ap_sp, how='inner', left_on='Accession Number', right_on='paper_id')"
   ]
  },
  {
   "cell_type": "code",
   "execution_count": null,
   "id": "6bf86598-6f59-46e7-b6e4-b6585b7d415f",
   "metadata": {},
   "outputs": [],
   "source": [
    "df_nw_stats = df_nw_m.groupby(['new_author_id']).agg(Mentions=('new_author_id', 'count'),\n",
    "                                                       Papers=('Details Page URL', 'nunique'),\n",
    "                                                       Local=('Local', 'sum'),\n",
    "                                                       Visits=('Engagments.Visits', 'mean'),\n",
    "                                                       Time_Visits=('Engagments.TimeOnSite', 'mean'),\n",
    "                                                       Page_Visit=('Engagments.PagePerVisit', 'mean'),\n",
    "                                                       Bounce=('Engagments.BounceRate', 'mean')).round(2).reset_index()"
   ]
  },
  {
   "cell_type": "code",
   "execution_count": null,
   "id": "36e93548-31dd-4b76-99e6-38d2b86aa641",
   "metadata": {},
   "outputs": [],
   "source": [
    "df_nw_stats.to_csv('data/Authors/news_metrics.tsv', sep='\\t', index=False)"
   ]
  },
  {
   "cell_type": "code",
   "execution_count": null,
   "id": "d0e2dfb3-16a4-478d-a9f8-e79e11ee0864",
   "metadata": {},
   "outputs": [],
   "source": [
    "df_nw_stats_2 = df_nw_m.groupby(['new_author_id', 'main_category']).agg(Mentions=('new_author_id', 'count')).round(2).reset_index()"
   ]
  },
  {
   "cell_type": "code",
   "execution_count": null,
   "id": "274a90cf-c41c-4055-a768-124e3b61ac7b",
   "metadata": {},
   "outputs": [],
   "source": [
    "df_nw_stats_2.to_csv('data/Authors/news_types.tsv', sep='\\t', index=False)"
   ]
  },
  {
   "cell_type": "markdown",
   "id": "75dd611a-8b3e-42e9-a572-93ff8b796b9a",
   "metadata": {},
   "source": [
    "## 2.3. Wikipedia"
   ]
  },
  {
   "cell_type": "code",
   "execution_count": null,
   "id": "10b31c3c-d3cf-4162-a221-ce62cd66c3e7",
   "metadata": {},
   "outputs": [],
   "source": [
    "df_wp_m = pd.read_csv('data/Wikipedia/publications_metrics.tsv', sep='\\t', encoding='UTF-8', dtype={'Outlet or Author':'string', 'External Mention ID':'string'})\n",
    "df_wp_m['DOI'] = df_wp_m['DOI'].str.lower()\n",
    "df_wp_m.shape"
   ]
  },
  {
   "cell_type": "code",
   "execution_count": null,
   "id": "04befa4a-1030-4df1-a4ae-9fcd103f97f3",
   "metadata": {},
   "outputs": [],
   "source": [
    "df_wp_m[df_wp_m['DOI'].isin(df_wos['DOI'].tolist())].shape"
   ]
  },
  {
   "cell_type": "code",
   "execution_count": null,
   "id": "c163fe86-c66c-4aa1-b468-fd8cf02f588d",
   "metadata": {},
   "outputs": [],
   "source": [
    "df_wp_m = df_wp_m.merge(df_wos[['DOI', 'Accession Number']], how='inner', on='DOI').drop_duplicates().reset_index(drop=True)\n",
    "df_wp_m.shape"
   ]
  },
  {
   "cell_type": "code",
   "execution_count": null,
   "id": "efcb4c91-77ad-4935-a5a8-c8760acb651e",
   "metadata": {},
   "outputs": [],
   "source": [
    "df_wp_m = df_wp_m.merge(df_ap_sp, how='inner', left_on='Accession Number', right_on='paper_id')"
   ]
  },
  {
   "cell_type": "code",
   "execution_count": null,
   "id": "902699ca-3971-4a85-baf1-a91fafa6d59e",
   "metadata": {},
   "outputs": [],
   "source": [
    "df_wp_stats = df_wp_m.groupby(['new_author_id']).agg(Mentions=('new_author_id', 'count'),\n",
    "                                                     Papers=('Details Page URL', 'nunique'),\n",
    "                                                     Local=('local', 'sum'),\n",
    "                                                     Avg_views=('pageviews', 'mean'),\n",
    "                                                     Avg_edits=('revisions', 'mean'),\n",
    "                                                     Avg_words=('words', 'mean'),\n",
    "                                                     Avg_trans=('langs', 'mean')).round(2).reset_index()"
   ]
  },
  {
   "cell_type": "code",
   "execution_count": null,
   "id": "4bd7268d-729e-482a-908e-9086249913af",
   "metadata": {},
   "outputs": [],
   "source": [
    "df_wp_stats.to_csv('data/Authors/wikipedia_metrics.tsv', sep='\\t', index=False)"
   ]
  },
  {
   "cell_type": "code",
   "execution_count": null,
   "id": "70a917e4-85e2-4a3b-82be-8d60af2e372c",
   "metadata": {},
   "outputs": [],
   "source": [
    "df_wp_stats_2 = df_wp_m.groupby(['new_author_id', 'major_topic']).agg(Mentions=('new_author_id', 'count')).round(2).reset_index()"
   ]
  },
  {
   "cell_type": "code",
   "execution_count": null,
   "id": "08abd1d4-87d6-4c0f-ab9d-edc60f3baec0",
   "metadata": {},
   "outputs": [],
   "source": [
    "df_wp_stats_2.to_csv('data/Authors/wikipedia_types.tsv', sep='\\t', index=False)"
   ]
  }
 ],
 "metadata": {
  "kernelspec": {
   "display_name": "Python 3 (ipykernel)",
   "language": "python",
   "name": "python3"
  },
  "language_info": {
   "codemirror_mode": {
    "name": "ipython",
    "version": 3
   },
   "file_extension": ".py",
   "mimetype": "text/x-python",
   "name": "python",
   "nbconvert_exporter": "python",
   "pygments_lexer": "ipython3",
   "version": "3.9.7"
  }
 },
 "nbformat": 4,
 "nbformat_minor": 5
}
