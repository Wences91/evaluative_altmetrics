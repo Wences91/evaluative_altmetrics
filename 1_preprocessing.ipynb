{
 "cells": [
  {
   "cell_type": "markdown",
   "id": "da3157d5-bd7a-4549-97a7-dd44df567c51",
   "metadata": {},
   "source": [
    "# Packages"
   ]
  },
  {
   "cell_type": "code",
   "execution_count": null,
   "id": "fef7a08b-3938-4343-88f9-99317c8a082d",
   "metadata": {},
   "outputs": [],
   "source": [
    "import pandas as pd"
   ]
  },
  {
   "cell_type": "markdown",
   "id": "7497cebd-e48c-48da-a7a6-793be84a57d2",
   "metadata": {},
   "source": [
    "## 1. Publications"
   ]
  },
  {
   "cell_type": "markdown",
   "id": "7305a0c8-b0ee-4890-888b-8105cf55f75f",
   "metadata": {},
   "source": [
    "There are a total of 1959 publications."
   ]
  },
  {
   "cell_type": "code",
   "execution_count": null,
   "id": "bec8bf5a-f1dd-4ad0-8581-6890b17b23bc",
   "metadata": {},
   "outputs": [],
   "source": [
    "df_wos = pd.read_csv('data/publications.csv', sep=',', encoding='UTF-8', dtype={'Publication Date':'Int32'})\n",
    "df_wos.shape"
   ]
  },
  {
   "cell_type": "markdown",
   "id": "300c0a92-1534-4460-afd8-82044e6c77bb",
   "metadata": {},
   "source": [
    "91% are papers and 7% reviews."
   ]
  },
  {
   "cell_type": "code",
   "execution_count": null,
   "id": "d4b9524b-c6f1-4799-99fe-dc1880e6377c",
   "metadata": {},
   "outputs": [],
   "source": [
    "df_wos[['Document Type']].groupby('Document Type').size()"
   ]
  },
  {
   "cell_type": "code",
   "execution_count": null,
   "id": "28d4a45c-7cea-421b-afcd-be52051def23",
   "metadata": {},
   "outputs": [],
   "source": [
    "100*df_wos[['Document Type']].groupby('Document Type').size()/df_wos.shape[0]"
   ]
  },
  {
   "cell_type": "markdown",
   "id": "4f0f901e-073f-4b6b-aac3-a3c04530903f",
   "metadata": {},
   "source": [
    "Most publications are from the past 5 years."
   ]
  },
  {
   "cell_type": "code",
   "execution_count": null,
   "id": "89a9542a-81bf-4ac1-96aa-de10081520a3",
   "metadata": {},
   "outputs": [],
   "source": [
    "df_wos[['Publication Date']].groupby('Publication Date').size().plot.line(style='.-')"
   ]
  },
  {
   "cell_type": "markdown",
   "id": "9986e641-e48a-467e-af10-81410b99273d",
   "metadata": {},
   "source": [
    "Almost all publications (n=1928) include DOI."
   ]
  },
  {
   "cell_type": "code",
   "execution_count": null,
   "id": "c44a4501-f6a8-4e7f-970f-191218fc0499",
   "metadata": {},
   "outputs": [],
   "source": [
    "sum(-df_wos.DOI.isna())"
   ]
  },
  {
   "cell_type": "markdown",
   "id": "09d28c9a-7b2f-422b-8040-4a2f7af9bd72",
   "metadata": {},
   "source": [
    "## 2. Altmetric outputs"
   ]
  },
  {
   "cell_type": "markdown",
   "id": "029e9203-0aa7-4f02-b4c3-54585ffa6b43",
   "metadata": {},
   "source": [
    "1213 publications (63% with DOI) are indexed in Altmetric.com and 1097 have at least one altmetric mention."
   ]
  },
  {
   "cell_type": "code",
   "execution_count": null,
   "id": "a9c9506e-ce75-41e5-bf21-689cce912dc6",
   "metadata": {},
   "outputs": [],
   "source": [
    "df_ao = pd.read_csv('data/altmetric_outputs.csv', sep=',', encoding='UTF-8')\n",
    "df_ao.shape"
   ]
  },
  {
   "cell_type": "code",
   "execution_count": null,
   "id": "6f13bef9-5ab4-43e0-8415-31617d4c7cc0",
   "metadata": {},
   "outputs": [],
   "source": [
    "df_ao[df_ao['Altmetric Attention Score']>0].shape"
   ]
  },
  {
   "cell_type": "markdown",
   "id": "86edaee2-f5e2-4220-a81a-f3da8fc9c037",
   "metadata": {},
   "source": [
    "Most of the publications with altmetric attention (n=1047) have been mentioned in one of the four sources studied. "
   ]
  },
  {
   "cell_type": "code",
   "execution_count": null,
   "id": "b057ae14-4633-4330-ae82-27a6c562da78",
   "metadata": {},
   "outputs": [],
   "source": [
    "df_ao[(df_ao['Twitter mentions']>0) | (df_ao['News mentions']>0) | (df_ao['Policy mentions']>0) | (df_ao['Wikipedia mentions']>0)].shape"
   ]
  },
  {
   "cell_type": "markdown",
   "id": "fa58c2a8-f929-4d01-846c-270c74518866",
   "metadata": {},
   "source": [
    "## 3. Altmetric mentions"
   ]
  },
  {
   "cell_type": "markdown",
   "id": "888b0aba-e45c-45b0-b550-e24a2c108c03",
   "metadata": {},
   "source": [
    "These publications have 14,919 altmetric mentions."
   ]
  },
  {
   "cell_type": "code",
   "execution_count": null,
   "id": "9a2f5090-77b4-4e8f-a2d6-32e8e4a690c7",
   "metadata": {},
   "outputs": [],
   "source": [
    "df_am = pd.read_csv('data/altmetric_mentions.csv', sep=',',  encoding='UTF-8', dtype={'External Mention ID':'string'})\n",
    "df_am.shape"
   ]
  },
  {
   "cell_type": "markdown",
   "id": "c23bca3c-a2d9-432f-aa40-e5024a57cccb",
   "metadata": {},
   "source": [
    "83% are Twitter mentions, 10% news mentions, 1% policy mentions, and 1% Wikipedia mentions."
   ]
  },
  {
   "cell_type": "code",
   "execution_count": null,
   "id": "9d5bd119-5b5a-4705-bf32-1330640787d8",
   "metadata": {},
   "outputs": [],
   "source": [
    "df_am[['Mention Type']].groupby('Mention Type').size()"
   ]
  },
  {
   "cell_type": "code",
   "execution_count": null,
   "id": "c61bdf95-c509-4e7c-a999-73d8c6ea5e7f",
   "metadata": {},
   "outputs": [],
   "source": [
    "100*df_am[['Mention Type']].groupby('Mention Type').size()/df_am.shape[0]"
   ]
  },
  {
   "cell_type": "code",
   "execution_count": null,
   "id": "03f937d4-b036-4ccd-a906-0bcb897f070e",
   "metadata": {},
   "outputs": [],
   "source": [
    "df_am[df_am['Mention Type']=='Tweet'].to_csv('data/twitter_mentions.tsv', sep='\\t', index=False, encoding='UTF-8')"
   ]
  },
  {
   "cell_type": "code",
   "execution_count": null,
   "id": "55b526eb-66a2-47f0-ade1-35495fc22c28",
   "metadata": {},
   "outputs": [],
   "source": [
    "df_am[df_am['Mention Type']=='News story'].to_csv('data/news_mentions.tsv', sep='\\t', index=False, encoding='UTF-8')"
   ]
  },
  {
   "cell_type": "code",
   "execution_count": null,
   "id": "a9e0b761-569d-44ab-a5e0-9167a5fef72a",
   "metadata": {},
   "outputs": [],
   "source": [
    "df_am[df_am['Mention Type']=='Wikipedia page'].to_csv('data/wikipedia_mentions.tsv', sep='\\t', index=False, encoding='UTF-8')"
   ]
  }
 ],
 "metadata": {
  "kernelspec": {
   "display_name": "Python 3 (ipykernel)",
   "language": "python",
   "name": "python3"
  },
  "language_info": {
   "codemirror_mode": {
    "name": "ipython",
    "version": 3
   },
   "file_extension": ".py",
   "mimetype": "text/x-python",
   "name": "python",
   "nbconvert_exporter": "python",
   "pygments_lexer": "ipython3",
   "version": "3.9.7"
  }
 },
 "nbformat": 4,
 "nbformat_minor": 5
}
