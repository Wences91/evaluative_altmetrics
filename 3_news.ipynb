{
 "cells": [
  {
   "cell_type": "markdown",
   "id": "036690dd-34e5-444b-a0f9-357a7b8b0bfd",
   "metadata": {},
   "source": [
    "# Packages"
   ]
  },
  {
   "cell_type": "code",
   "execution_count": null,
   "id": "6a3f8819-3f98-4eab-9a79-fa9a1f0c673d",
   "metadata": {},
   "outputs": [],
   "source": [
    "import pandas as pd\n",
    "from functions_alt import news_data, full_url"
   ]
  },
  {
   "cell_type": "markdown",
   "id": "2457e0eb",
   "metadata": {},
   "source": [
    "# 1. Altmetric mentions"
   ]
  },
  {
   "cell_type": "code",
   "execution_count": null,
   "id": "aacc9587-a76f-4fba-a891-70a71dee34bc",
   "metadata": {},
   "outputs": [],
   "source": [
    "df_am = pd.read_csv('data/altmetric_mentions.csv', sep=',', encoding='UTF-8')"
   ]
  },
  {
   "cell_type": "markdown",
   "id": "7232ba70",
   "metadata": {},
   "source": [
    "There are 1513 news mentions."
   ]
  },
  {
   "cell_type": "code",
   "execution_count": null,
   "id": "cc9bf5a5-1b3e-464c-af13-5875eead9abb",
   "metadata": {},
   "outputs": [],
   "source": [
    "df_am = df_am[df_am['Mention Type']=='News story'].reset_index(drop=True)\n",
    "df_am.shape"
   ]
  },
  {
   "cell_type": "markdown",
   "id": "738049bc",
   "metadata": {},
   "source": [
    "But, 139 do not include the news media URL, so they are removed."
   ]
  },
  {
   "cell_type": "code",
   "execution_count": null,
   "id": "ad3edd81-70db-4b0f-946a-07cbcfcd43fd",
   "metadata": {},
   "outputs": [],
   "source": [
    "df_am = df_am[~df_am['Mention URL'].isna()].reset_index(drop=True)\n",
    "df_am.shape"
   ]
  },
  {
   "cell_type": "markdown",
   "id": "7619c801",
   "metadata": {},
   "source": [
    "# 2. Site Traffic API"
   ]
  },
  {
   "cell_type": "code",
   "execution_count": null,
   "id": "cd3fb5d7-c7e4-4874-8e96-c8ced4f84071",
   "metadata": {},
   "outputs": [],
   "source": [
    "df_am['Clean URL'] = df_am['Mention URL']"
   ]
  },
  {
   "cell_type": "code",
   "execution_count": null,
   "id": "93e33f30-04d2-4fb3-a61b-bc1a14c8360d",
   "metadata": {},
   "outputs": [],
   "source": [
    "df_am['Clean URL'] = df_am['Clean URL'].str.replace('(http://)|(https://)|(www.)', '', regex=True)\n",
    "df_am['Clean URL'] = df_am['Clean URL'].str.replace('/.*', '', regex=True)"
   ]
  },
  {
   "cell_type": "markdown",
   "id": "d05813e4",
   "metadata": {},
   "source": [
    "There are 447 news media."
   ]
  },
  {
   "cell_type": "code",
   "execution_count": null,
   "id": "bdb550fd-54f9-4c57-9332-668d5cd7c8a3",
   "metadata": {},
   "outputs": [],
   "source": [
    "len(list(set(df_am['Clean URL'].tolist())))"
   ]
  },
  {
   "cell_type": "markdown",
   "id": "d5e46bab",
   "metadata": {},
   "source": [
    "## 2.1. API query 1"
   ]
  },
  {
   "cell_type": "markdown",
   "id": "318081ef-29cb-408e-954c-54307ea2e54a",
   "metadata": {},
   "source": [
    "All URLs."
   ]
  },
  {
   "cell_type": "code",
   "execution_count": null,
   "id": "345d801b",
   "metadata": {},
   "outputs": [],
   "source": [
    "url = 'https://zylalabs.com/api/29/site+traffic+api/93/traffic+source+and+overview'\n",
    "key = ''\n",
    "header = {'Authorization':key}"
   ]
  },
  {
   "cell_type": "code",
   "execution_count": null,
   "id": "d7817eca",
   "metadata": {},
   "outputs": [],
   "source": [
    "df_news = news_data(url, header, list(set(df_am['Clean URL'].tolist())))"
   ]
  },
  {
   "cell_type": "code",
   "execution_count": null,
   "id": "1ae8404e",
   "metadata": {},
   "outputs": [],
   "source": [
    "df_news.to_csv('data/News/media_metrics.tsv', sep='\\t', encoding='UTF-8', index=False)"
   ]
  },
  {
   "cell_type": "markdown",
   "id": "5bf506a0-2b70-40e8-80fd-85d29002fafb",
   "metadata": {},
   "source": [
    "## 2.2. API query 2"
   ]
  },
  {
   "cell_type": "markdown",
   "id": "52c160d7-138a-4038-bce7-feb1f0f90858",
   "metadata": {},
   "source": [
    "Short URLs are fixed."
   ]
  },
  {
   "cell_type": "code",
   "execution_count": null,
   "id": "2fdf0ea7",
   "metadata": {},
   "outputs": [],
   "source": [
    "df_am['Full URL'] = None\n",
    "df_am.loc[df_am['Clean URL']=='ct.moreover.com', 'Full URL'] = df_am.loc[df_am['Clean URL']=='ct.moreover.com', 'Mention URL']"
   ]
  },
  {
   "cell_type": "code",
   "execution_count": null,
   "id": "0a4539be",
   "metadata": {},
   "outputs": [],
   "source": [
    "for i in df_am[df_am['Clean URL']=='ct.moreover.com'].index:\n",
    "    df_am.loc[i, 'Full URL'] = full_url(df_am.loc[i, 'Mention URL'])"
   ]
  },
  {
   "cell_type": "code",
   "execution_count": null,
   "id": "b7fb36ab",
   "metadata": {},
   "outputs": [],
   "source": [
    "df_am['Full URL'] = df_am['Full URL'].str.replace('(http://)|(https://)|(www.)', '', regex=True)\n",
    "df_am['Full URL'] = df_am['Full URL'].str.replace('/.*', '', regex=True)"
   ]
  },
  {
   "cell_type": "code",
   "execution_count": null,
   "id": "ecb2df91",
   "metadata": {},
   "outputs": [],
   "source": [
    "df_am.loc[df_am['Clean URL']=='ct.moreover.com', 'Full URL']"
   ]
  },
  {
   "cell_type": "code",
   "execution_count": null,
   "id": "f6edd737",
   "metadata": {},
   "outputs": [],
   "source": [
    "len(list(set(df_am['Full URL'].tolist())))"
   ]
  },
  {
   "cell_type": "code",
   "execution_count": null,
   "id": "269966d1",
   "metadata": {},
   "outputs": [],
   "source": [
    "len(set(df_am[df_am['Full URL'].isin(df_am['Clean URL'])]['Full URL']))"
   ]
  },
  {
   "cell_type": "code",
   "execution_count": null,
   "id": "ec1d8f58",
   "metadata": {},
   "outputs": [],
   "source": [
    "len(set(df_am[(~df_am['Full URL'].isin(df_am['Clean URL'])) & (~df_am['Full URL'].isna())]['Full URL']))"
   ]
  },
  {
   "cell_type": "code",
   "execution_count": null,
   "id": "f4d99b15",
   "metadata": {},
   "outputs": [],
   "source": [
    "url = 'https://zylalabs.com/api/29/site+traffic+api/93/traffic+source+and+overview'\n",
    "key = ''\n",
    "header = {'Authorization':key}"
   ]
  },
  {
   "cell_type": "code",
   "execution_count": null,
   "id": "2a8ecb85",
   "metadata": {},
   "outputs": [],
   "source": [
    "df_news_full = news_data(url, header, list(set(df_am[(~df_am['Full URL'].isin(df_am['Clean URL'])) & (~df_am['Full URL'].isna())]['Full URL'])))"
   ]
  },
  {
   "cell_type": "code",
   "execution_count": null,
   "id": "66c67591",
   "metadata": {},
   "outputs": [],
   "source": [
    "df_news_full.to_csv('data/News/media_metrics_full.tsv', sep='\\t', encoding='UTF-8', index=False)"
   ]
  },
  {
   "cell_type": "code",
   "execution_count": null,
   "id": "add6b6dc",
   "metadata": {},
   "outputs": [],
   "source": [
    "df_am.loc[df_am['Clean URL']=='ct.moreover.com', 'Clean URL'] = df_am.loc[df_am['Clean URL']=='ct.moreover.com', 'Full URL']"
   ]
  },
  {
   "cell_type": "code",
   "execution_count": null,
   "id": "224d971e",
   "metadata": {},
   "outputs": [],
   "source": [
    "df_am.to_csv('data/News/news_mentions_full.tsv', sep='\\t', index=False, encoding='UTF-8')"
   ]
  }
 ],
 "metadata": {
  "kernelspec": {
   "display_name": "Python 3 (ipykernel)",
   "language": "python",
   "name": "python3"
  },
  "language_info": {
   "codemirror_mode": {
    "name": "ipython",
    "version": 3
   },
   "file_extension": ".py",
   "mimetype": "text/x-python",
   "name": "python",
   "nbconvert_exporter": "python",
   "pygments_lexer": "ipython3",
   "version": "3.9.7"
  }
 },
 "nbformat": 4,
 "nbformat_minor": 5
}
