{
 "cells": [
  {
   "cell_type": "markdown",
   "id": "d7e9c918-ad75-472c-91fe-0af7d94dd8bd",
   "metadata": {},
   "source": [
    "# Packages"
   ]
  },
  {
   "cell_type": "code",
   "execution_count": null,
   "id": "caddad4e-5643-4c52-9743-e7c1456b1ab8",
   "metadata": {},
   "outputs": [],
   "source": [
    "import pandas as pd"
   ]
  },
  {
   "cell_type": "markdown",
   "id": "8a20a5d9-31be-49be-8912-a5ef301cda2a",
   "metadata": {},
   "source": [
    "# 1. Data import"
   ]
  },
  {
   "cell_type": "markdown",
   "id": "dbf595e1-eea0-4815-b568-07fe53e46e5a",
   "metadata": {},
   "source": [
    "## 1.1. Mentions"
   ]
  },
  {
   "cell_type": "code",
   "execution_count": null,
   "id": "ed6a7893-9a01-4a88-a18f-c32286198367",
   "metadata": {},
   "outputs": [],
   "source": [
    "df = pd.read_csv('data/Wikipedia/mentions.tsv', sep='\\t', encoding='UTF-8', dtype={'pageid':'str'})\n",
    "df.shape"
   ]
  },
  {
   "cell_type": "markdown",
   "id": "da8fcabd-296b-40b4-96c9-8cd7a34a2282",
   "metadata": {},
   "source": [
    "## 1.2. Pages"
   ]
  },
  {
   "cell_type": "code",
   "execution_count": null,
   "id": "0aef2b06-d2c6-4cb4-8c97-7a0949ca7083",
   "metadata": {},
   "outputs": [],
   "source": [
    "df_pages = pd.read_csv('data/Wikipedia/pages.tsv', sep='\\t', encoding='UTF-8', dtype={'Wikipedia_page_id':'str'})\n",
    "df_pages.shape"
   ]
  },
  {
   "cell_type": "code",
   "execution_count": null,
   "id": "493ce04b-3d17-4d1c-bd5b-f3068b4d6b1c",
   "metadata": {},
   "outputs": [],
   "source": [
    "df_pages[df_pages['Wikipedia_page_id'].isin(df.pageid)].shape"
   ]
  },
  {
   "cell_type": "code",
   "execution_count": null,
   "id": "017c53c7-0242-4276-bac5-2a3031915848",
   "metadata": {},
   "outputs": [],
   "source": [
    "df[df['pageid'].isin(df_pages.Wikipedia_page_id)].shape"
   ]
  },
  {
   "cell_type": "markdown",
   "id": "265d4b12-5c83-4687-9461-b4710d03a5c0",
   "metadata": {},
   "source": [
    "# 2. Wikipedia pages"
   ]
  },
  {
   "cell_type": "code",
   "execution_count": null,
   "id": "e63fafcd-f32a-45a7-a29a-6004cab0780b",
   "metadata": {},
   "outputs": [],
   "source": [
    "df_pages.loc[df_pages['major_topic'].isna(), 'major_topic'] = 'Other'"
   ]
  },
  {
   "cell_type": "code",
   "execution_count": null,
   "id": "28f252e5-2499-422f-a68b-40039adbfe94",
   "metadata": {},
   "outputs": [],
   "source": [
    "df_pages.groupby(['major_topic']).agg(Pages=('major_topic', 'count'),\n",
    "                                      Words=('words', 'mean'),\n",
    "                                      Languages=('Wikipedia_lg', 'nunique'),\n",
    "                                      Translations=('langs', 'mean'),\n",
    "                                      Pageviews=('pageviews', 'mean'),\n",
    "                                      Editions=('revisions', 'mean'),\n",
    "                                      References=('references', 'mean')\n",
    "                                     ).round(2).reset_index()"
   ]
  },
  {
   "cell_type": "code",
   "execution_count": null,
   "id": "d9aff623-6ef2-4942-9520-6d5334cf2773",
   "metadata": {},
   "outputs": [],
   "source": [
    "df_pages.groupby(lambda x: True).agg(Pages=('major_topic', 'count'),\n",
    "                                     Words=('words', 'mean'),\n",
    "                                     Languages=('Wikipedia_lg', 'nunique'),\n",
    "                                     Translations=('langs', 'mean'),\n",
    "                                     Pageviews=('pageviews', 'mean'),\n",
    "                                     Editions=('revisions', 'mean'),\n",
    "                                     References=('references', 'mean')\n",
    "                                     ).round(2).reset_index()"
   ]
  },
  {
   "cell_type": "code",
   "execution_count": null,
   "id": "329968d6-a9d3-4e62-aa38-2331211b5eeb",
   "metadata": {},
   "outputs": [],
   "source": [
    "df_pages.groupby(['major_topic']).agg(Pages=('major_topic', 'count'),\n",
    "                                      Words=('words', 'median'),\n",
    "                                      Languages=('Wikipedia_lg', 'nunique'),\n",
    "                                      Translations=('langs', 'median'),\n",
    "                                      Pageviews=('pageviews', 'median'),\n",
    "                                      Editions=('revisions', 'median'),\n",
    "                                      References=('references', 'median')\n",
    "                                     ).round(2).reset_index()"
   ]
  },
  {
   "cell_type": "code",
   "execution_count": null,
   "id": "414838d0-68d3-4f7c-824d-16224d56c68f",
   "metadata": {},
   "outputs": [],
   "source": [
    "df_pages.groupby(lambda x: True).agg(Pages=('major_topic', 'count'),\n",
    "                                     Words=('words', 'median'),\n",
    "                                     Languages=('Wikipedia_lg', 'nunique'),\n",
    "                                     Translations=('langs', 'median'),\n",
    "                                     Pageviews=('pageviews', 'median'),\n",
    "                                     Editions=('revisions', 'median'),\n",
    "                                     References=('references', 'median')\n",
    "                                     ).round(2).reset_index()"
   ]
  },
  {
   "cell_type": "markdown",
   "id": "bf6967ed-926d-471f-a22e-665e677031df",
   "metadata": {},
   "source": [
    "# 3. Wikipedia mentions"
   ]
  },
  {
   "cell_type": "code",
   "execution_count": null,
   "id": "4da0572f-5069-4577-b34f-1a7785c18ed7",
   "metadata": {},
   "outputs": [],
   "source": [
    "df_pages_m = df_pages.merge(df[['pageid', 'user', 'Details Page URL', 'DOI']], how='inner', left_on='Wikipedia_page_id', right_on='pageid').drop('pageid', axis=1)"
   ]
  },
  {
   "cell_type": "code",
   "execution_count": null,
   "id": "fcf08a75-e947-4724-bf9e-c1abaa652dfc",
   "metadata": {},
   "outputs": [],
   "source": [
    "df_pages_m['local'] = 0\n",
    "df_pages_m.loc[df_pages_m['Wikipedia_lg'].isin(['es','ca']),'local'] = 1"
   ]
  },
  {
   "cell_type": "code",
   "execution_count": null,
   "id": "cce95e09-d840-4f89-9aa3-df7e0e20f033",
   "metadata": {},
   "outputs": [],
   "source": [
    "df_pages_m.groupby('major_topic').agg(Unique_user=('user', 'nunique'),\n",
    "                                      Papers=('Details Page URL', 'nunique'),\n",
    "                                      Local=('local', 'sum'),\n",
    "                                      Mentions=('major_topic', 'count'),\n",
    "                                      Pageviews=('pageviews', 'mean'),\n",
    "                                      Edits=('revisions', 'mean')).round(2).reset_index()"
   ]
  },
  {
   "cell_type": "code",
   "execution_count": null,
   "id": "bb6a7aa9-1ffb-4b3b-a9ca-f4211666ff46",
   "metadata": {},
   "outputs": [],
   "source": [
    "df_pages_m.groupby(lambda x: True).agg(Unique_user=('user', 'nunique'),\n",
    "                                       Papers=('Details Page URL', 'nunique'),\n",
    "                                       Local=('local', 'sum'),\n",
    "                                       Mentions=('major_topic', 'count'),\n",
    "                                       Pageviews=('pageviews', 'mean'),\n",
    "                                       Edits=('revisions', 'mean')).round(2).reset_index()"
   ]
  },
  {
   "cell_type": "code",
   "execution_count": null,
   "id": "23cee705-c60d-47cb-96fb-a02201cc51d7",
   "metadata": {},
   "outputs": [],
   "source": [
    "df_pages_m.groupby('major_topic').agg(Unique_user=('user', 'nunique'),\n",
    "                                      Local=('local', 'sum'),\n",
    "                                      Papers=('Details Page URL', 'nunique'),\n",
    "                                      Mentions=('major_topic', 'count'),\n",
    "                                      Pageviews=('pageviews', 'median'),\n",
    "                                      Edits=('revisions', 'median')).round(2).reset_index()"
   ]
  },
  {
   "cell_type": "code",
   "execution_count": null,
   "id": "bd4a1bea-969a-4862-8559-7d388e80a088",
   "metadata": {},
   "outputs": [],
   "source": [
    "df_pages_m.groupby(lambda x: True).agg(Unique_user=('user', 'nunique'),\n",
    "                                       Local=('local', 'sum'),\n",
    "                                       Papers=('Details Page URL', 'nunique'),\n",
    "                                       Mentions=('major_topic', 'count'),\n",
    "                                       Pageviews=('pageviews', 'median'),\n",
    "                                       Edits=('revisions', 'median')).round(2).reset_index()"
   ]
  },
  {
   "cell_type": "code",
   "execution_count": null,
   "id": "81770d32-44d4-4e52-816f-6e26cee94819",
   "metadata": {},
   "outputs": [],
   "source": [
    "df_mentions = df_pages_m.groupby(['Details Page URL', 'major_topic']).agg(Mentions=('major_topic', 'count'),\n",
    "                                                                          Avg_views=('pageviews', 'mean'),\n",
    "                                                                          Avg_edits=('revisions', 'mean'),\n",
    "                                                                          Avg_words=('words', 'mean'),\n",
    "                                                                          Avg_trans=('langs', 'mean')).round(2).reset_index()"
   ]
  },
  {
   "cell_type": "code",
   "execution_count": null,
   "id": "17b80555-5c7a-4968-8791-3d00057ad64e",
   "metadata": {},
   "outputs": [],
   "source": [
    "df_mentions.to_csv('data/Wikipedia/publications_metrics_mean.tsv', sep='\\t', index=False)"
   ]
  },
  {
   "cell_type": "code",
   "execution_count": null,
   "id": "e075c4c7-34a5-44ab-8802-4eed1478d689",
   "metadata": {},
   "outputs": [],
   "source": [
    "df_mentions = df_pages_m.groupby(['Details Page URL']).agg(Mentions=('Details Page URL', 'count'),\n",
    "                                                           Avg_views=('pageviews', 'mean'),\n",
    "                                                           Avg_edits=('revisions', 'mean'),\n",
    "                                                           Avg_words=('words', 'mean'),\n",
    "                                                           Avg_trans=('langs', 'mean')).round(2).reset_index()"
   ]
  },
  {
   "cell_type": "code",
   "execution_count": null,
   "id": "b1e3dca8",
   "metadata": {},
   "outputs": [],
   "source": [
    "df_mentions.to_csv('data/Wikipedia/publications_metrics_mean_all.tsv', sep='\\t', index=False)"
   ]
  },
  {
   "cell_type": "code",
   "execution_count": null,
   "id": "ed508cb2-5489-4a90-a60c-7036639611b7",
   "metadata": {},
   "outputs": [],
   "source": [
    "df_pages_m.to_csv('data/Wikipedia/publications_metrics.tsv', sep='\\t', index=False)"
   ]
  }
 ],
 "metadata": {
  "kernelspec": {
   "display_name": "Python 3 (ipykernel)",
   "language": "python",
   "name": "python3"
  },
  "language_info": {
   "codemirror_mode": {
    "name": "ipython",
    "version": 3
   },
   "file_extension": ".py",
   "mimetype": "text/x-python",
   "name": "python",
   "nbconvert_exporter": "python",
   "pygments_lexer": "ipython3",
   "version": "3.9.7"
  }
 },
 "nbformat": 4,
 "nbformat_minor": 5
}
