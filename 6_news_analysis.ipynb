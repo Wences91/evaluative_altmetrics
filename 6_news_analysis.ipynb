{
 "cells": [
  {
   "cell_type": "markdown",
   "id": "899932a6-01b5-4214-9465-ad74dd81b1f0",
   "metadata": {},
   "source": [
    "# Packages"
   ]
  },
  {
   "cell_type": "code",
   "execution_count": null,
   "id": "adabffe4-4774-4ef4-9718-e63e341dd4de",
   "metadata": {},
   "outputs": [],
   "source": [
    "import pandas as pd"
   ]
  },
  {
   "cell_type": "markdown",
   "id": "6df25fa9-9056-4a84-982e-c0c81c32667c",
   "metadata": {},
   "source": [
    "# 1. Data import"
   ]
  },
  {
   "cell_type": "markdown",
   "id": "f115c747-bf81-4fb0-8fdb-3bc0b96de3e4",
   "metadata": {},
   "source": [
    "## 1.1. Mentions"
   ]
  },
  {
   "cell_type": "code",
   "execution_count": null,
   "id": "cb352f8c-333c-4633-bd45-1f56b6fef52a",
   "metadata": {},
   "outputs": [],
   "source": [
    "df = pd.read_csv('data/News/news_mentions_full.tsv', sep='\\t', encoding='UTF-8', dtype={'pageid':'str'})\n",
    "df.shape"
   ]
  },
  {
   "cell_type": "code",
   "execution_count": null,
   "id": "ac06973a",
   "metadata": {},
   "outputs": [],
   "source": [
    "df.rename({'Clean URL':'SiteName'}, axis=1, inplace=True)"
   ]
  },
  {
   "cell_type": "code",
   "execution_count": null,
   "id": "e212c472",
   "metadata": {},
   "outputs": [],
   "source": [
    "df = df[df['SiteName']!='ct.moreover.com'].copy()\n",
    "df.shape"
   ]
  },
  {
   "cell_type": "markdown",
   "id": "bd90c102-801a-4027-8413-8b7d3c067813",
   "metadata": {},
   "source": [
    "## 1.2. News media"
   ]
  },
  {
   "cell_type": "code",
   "execution_count": null,
   "id": "3247a9e5-7557-48f3-88d6-525695fa0d76",
   "metadata": {},
   "outputs": [],
   "source": [
    "df_pages_1 = pd.read_csv('data/News/media_metrics.tsv', sep='\\t', encoding='UTF-8', dtype={'Wikipedia_page_id':'str'})\n",
    "df_pages_1 = df_pages_1[(~df_pages_1['Category'].isna())].reset_index(drop=True)\n",
    "df_pages_1.shape"
   ]
  },
  {
   "cell_type": "code",
   "execution_count": null,
   "id": "c003ec99",
   "metadata": {},
   "outputs": [],
   "source": [
    "df_pages_2 = pd.read_csv('data/News/media_metrics_full.tsv', sep='\\t', encoding='UTF-8', dtype={'Wikipedia_page_id':'str'})\n",
    "df_pages_2 = df_pages_2[(~df_pages_2['Category'].isna())].reset_index(drop=True)\n",
    "df_pages_2.shape"
   ]
  },
  {
   "cell_type": "code",
   "execution_count": null,
   "id": "b3560ae3",
   "metadata": {},
   "outputs": [],
   "source": [
    "df_pages_1[df_pages_1['SiteName'].isin(df_pages_2.SiteName)].shape"
   ]
  },
  {
   "cell_type": "code",
   "execution_count": null,
   "id": "ca8d6aea",
   "metadata": {},
   "outputs": [],
   "source": [
    "df_pages = pd.concat([df_pages_1, df_pages_2])\n",
    "df_pages = df_pages.drop_duplicates().reset_index(drop=True)"
   ]
  },
  {
   "cell_type": "markdown",
   "id": "294f2cb7",
   "metadata": {},
   "source": [
    "49 mentions/27 websites have not metadata"
   ]
  },
  {
   "cell_type": "code",
   "execution_count": null,
   "id": "1791ff11",
   "metadata": {},
   "outputs": [],
   "source": [
    "df[~df['SiteName'].isin(df_pages['SiteName'].tolist())].shape"
   ]
  },
  {
   "cell_type": "code",
   "execution_count": null,
   "id": "6ce5d4b8",
   "metadata": {},
   "outputs": [],
   "source": [
    "len(set(df[~df['SiteName'].isin(df_pages['SiteName'].tolist())]['SiteName']))"
   ]
  },
  {
   "cell_type": "code",
   "execution_count": null,
   "id": "914439cd-2e62-4e05-a604-9d24754553dd",
   "metadata": {},
   "outputs": [],
   "source": [
    "df[df['SiteName'].isin(df_pages.SiteName)].shape"
   ]
  },
  {
   "cell_type": "code",
   "execution_count": null,
   "id": "1395d6fe-76c4-4f41-a172-1e5a834d1ce4",
   "metadata": {},
   "outputs": [],
   "source": [
    "df_pages['EstimatedMonthlyVisits'] = df_pages['EstimatedMonthlyVisits.2022-11-01']+df_pages['EstimatedMonthlyVisits.2022-12-01']+df_pages['EstimatedMonthlyVisits.2023-01-01']\n",
    "df_pages['EstimatedMonthlyVisits'] = df_pages['EstimatedMonthlyVisits']/1000000"
   ]
  },
  {
   "cell_type": "code",
   "execution_count": null,
   "id": "89e85b94-9713-4b3d-8b7c-e3c18e6f4db4",
   "metadata": {},
   "outputs": [],
   "source": [
    "df_pages['main_category'] = df_pages['Category']\n",
    "\n",
    "for x in range(df_pages.shape[0]):\n",
    "    try:\n",
    "        df_pages.loc[x, 'main_category'] = df_pages.loc[x, 'Category'].split('/')[0]\n",
    "    except:\n",
    "        pass"
   ]
  },
  {
   "cell_type": "code",
   "execution_count": null,
   "id": "9cdc7d32-6497-449f-9593-afecf2453a99",
   "metadata": {},
   "outputs": [],
   "source": [
    "df_pages['main_category'].value_counts()"
   ]
  },
  {
   "cell_type": "markdown",
   "id": "31fa77ae",
   "metadata": {},
   "source": [
    "Minor categories are aggregated."
   ]
  },
  {
   "cell_type": "code",
   "execution_count": null,
   "id": "96b6d5ec-28ee-47ed-8b97-c3fa665e6968",
   "metadata": {},
   "outputs": [],
   "source": [
    "df_pages.loc[~df_pages['main_category'].isin(['news_and_media', 'arts_and_entertainment',\n",
    "                                              'science_and_education', 'health',\n",
    "                                              'computers_electronics_and_technology', 'finance']),\n",
    "            'main_category'] = 'Other'"
   ]
  },
  {
   "cell_type": "code",
   "execution_count": null,
   "id": "06779fb6-abe2-4261-9416-bb1af4f7c9bf",
   "metadata": {},
   "outputs": [],
   "source": [
    "df_pages['main_category'].value_counts()"
   ]
  },
  {
   "cell_type": "code",
   "execution_count": null,
   "id": "cfff079c-b611-4ce1-a65b-fa1dd97a6d66",
   "metadata": {},
   "outputs": [],
   "source": [
    "df_pages['Engagments.Visits'] = df_pages['Engagments.Visits']/1000000"
   ]
  },
  {
   "cell_type": "code",
   "execution_count": null,
   "id": "944220ce-25bd-45fd-9c52-e1728965ba07",
   "metadata": {},
   "outputs": [],
   "source": [
    "df_pages['Local'] = 0\n",
    "df_pages.loc[df_pages['topcountry_name']==724, 'Local'] = 1"
   ]
  },
  {
   "cell_type": "markdown",
   "id": "9fd4dbf5-533a-4857-a891-5689712c3fdc",
   "metadata": {},
   "source": [
    "# 2. Analysis"
   ]
  },
  {
   "cell_type": "code",
   "execution_count": null,
   "id": "bdd59cc3-baba-49b4-b8fb-bafc990ee942",
   "metadata": {},
   "outputs": [],
   "source": [
    "df_pages.groupby('main_category').agg(Websites=('main_category', 'count'),\n",
    "                                      Local=('Local', 'sum'),\n",
    "                                      Three_Visits=('EstimatedMonthlyVisits', 'mean'),\n",
    "                                      Visits=('Engagments.Visits', 'mean'),\n",
    "                                      Time_Visits=('Engagments.TimeOnSite', 'mean'),\n",
    "                                      Page_Visit=('Engagments.PagePerVisit', 'mean'),\n",
    "                                      Small=('IsSmall', 'sum'),\n",
    "                                      Rank=('GlobalRank.Rank', 'mean'),\n",
    "                                      Bounce=('Engagments.BounceRate', 'mean'),\n",
    "                                      Search=('TrafficSources.Search', 'mean'),\n",
    "                                      Direct=('TrafficSources.Direct', 'mean'),\n",
    "                                      Social=('TrafficSources.Social', 'mean')).round(2).reset_index().sort_values(by='Websites', ascending=False)"
   ]
  },
  {
   "cell_type": "code",
   "execution_count": null,
   "id": "59c84aa7-a23b-49a8-b51c-6cc582362651",
   "metadata": {},
   "outputs": [],
   "source": [
    "df_pages.groupby(lambda x: True).agg(Websites=('main_category', 'count'),\n",
    "                                     Local=('Local', 'sum'),\n",
    "                                     Three_Visits=('EstimatedMonthlyVisits', 'mean'),\n",
    "                                     Visits=('Engagments.Visits', 'mean'),\n",
    "                                     Time_Visits=('Engagments.TimeOnSite', 'mean'),\n",
    "                                     Page_Visit=('Engagments.PagePerVisit', 'mean'),\n",
    "                                     Small=('IsSmall', 'sum'),\n",
    "                                     Rank=('GlobalRank.Rank', 'mean'),\n",
    "                                     Bounce=('Engagments.BounceRate', 'mean'),\n",
    "                                     Search=('TrafficSources.Search', 'mean'),\n",
    "                                     Direct=('TrafficSources.Direct', 'mean'),\n",
    "                                     Social=('TrafficSources.Social', 'mean')).round(2).reset_index().sort_values(by='Websites', ascending=False)"
   ]
  },
  {
   "cell_type": "code",
   "execution_count": null,
   "id": "e4dafa63-00c5-4ef2-8bf8-c2cad49eb220",
   "metadata": {},
   "outputs": [],
   "source": [
    "df_pages.groupby('main_category').agg(Websites=('main_category', 'count'),\n",
    "                                      Local=('Local', 'sum'),\n",
    "                                      Three_Visits=('EstimatedMonthlyVisits', 'median'),\n",
    "                                      Visits=('Engagments.Visits', 'median'),\n",
    "                                      Time_Visits=('Engagments.TimeOnSite', 'median'),\n",
    "                                      Page_Visit=('Engagments.PagePerVisit', 'median'),\n",
    "                                      Small=('IsSmall', 'sum'),\n",
    "                                      Rank=('GlobalRank.Rank', 'median'),\n",
    "                                      Bounce=('Engagments.BounceRate', 'median'),\n",
    "                                      Search=('TrafficSources.Search', 'median'),\n",
    "                                      Direct=('TrafficSources.Direct', 'median'),\n",
    "                                      Social=('TrafficSources.Social', 'median')).round(2).reset_index().sort_values(by='Websites', ascending=False)"
   ]
  },
  {
   "cell_type": "code",
   "execution_count": null,
   "id": "d6c86cd6-1eef-494d-8ada-d5a696fcb5b4",
   "metadata": {},
   "outputs": [],
   "source": [
    "df_pages.groupby(lambda x: True).agg(Websites=('main_category', 'count'),\n",
    "                                     Local=('Local', 'sum'),\n",
    "                                     Three_Visits=('EstimatedMonthlyVisits', 'median'),\n",
    "                                     Visits=('Engagments.Visits', 'median'),\n",
    "                                     Time_Visits=('Engagments.TimeOnSite', 'median'),\n",
    "                                     Page_Visit=('Engagments.PagePerVisit', 'median'),\n",
    "                                     Small=('IsSmall', 'sum'),\n",
    "                                     Rank=('GlobalRank.Rank', 'median'),\n",
    "                                     Bounce=('Engagments.BounceRate', 'median'),\n",
    "                                     Search=('TrafficSources.Search', 'median'),\n",
    "                                     Direct=('TrafficSources.Direct', 'median'),\n",
    "                                     Social=('TrafficSources.Social', 'median')).round(2).reset_index().sort_values(by='Websites', ascending=False)"
   ]
  },
  {
   "cell_type": "code",
   "execution_count": null,
   "id": "3dc88e93-adbf-4a85-bc76-90fce2e9194f",
   "metadata": {},
   "outputs": [],
   "source": [
    "df_pages_m = df.merge(df_pages, how='inner', on='SiteName')"
   ]
  },
  {
   "cell_type": "code",
   "execution_count": null,
   "id": "5fc0a0af-df94-4ac8-81be-59a1a27f65a4",
   "metadata": {},
   "outputs": [],
   "source": [
    "df_pages_m.groupby('main_category').agg(Mentions=('main_category', 'count'),\n",
    "                                        Local=('Local', 'sum'),\n",
    "                                        Papers=('Details Page URL', 'nunique'),\n",
    "                                        Three_Visits=('EstimatedMonthlyVisits', 'mean'),\n",
    "                                        Visits=('Engagments.Visits', 'mean'),\n",
    "                                        Time_Visits=('Engagments.TimeOnSite', 'mean'),\n",
    "                                        Page_Visit=('Engagments.PagePerVisit', 'mean'),\n",
    "                                        Small=('IsSmall', 'sum'),\n",
    "                                        Rank=('GlobalRank.Rank', 'mean'),\n",
    "                                        Bounce=('Engagments.BounceRate', 'mean'),\n",
    "                                        Search=('TrafficSources.Search', 'mean'),\n",
    "                                        Direct=('TrafficSources.Direct', 'mean'),\n",
    "                                        Social=('TrafficSources.Social', 'mean')).round(2).reset_index()"
   ]
  },
  {
   "cell_type": "code",
   "execution_count": null,
   "id": "b3b5eba4-8ffd-4170-b4f8-8752acd94c1e",
   "metadata": {},
   "outputs": [],
   "source": [
    "df_pages_m.groupby(lambda x: True).agg(Mentions=('main_category', 'count'),\n",
    "                                       Local=('Local', 'sum'),\n",
    "                                       Papers=('Details Page URL', 'nunique'),\n",
    "                                       Three_Visits=('EstimatedMonthlyVisits', 'mean'),\n",
    "                                       Visits=('Engagments.Visits', 'mean'),\n",
    "                                       Time_Visits=('Engagments.TimeOnSite', 'mean'),\n",
    "                                       Page_Visit=('Engagments.PagePerVisit', 'mean'),\n",
    "                                       Small=('IsSmall', 'sum'),\n",
    "                                       Rank=('GlobalRank.Rank', 'mean'),\n",
    "                                       Bounce=('Engagments.BounceRate', 'mean'),\n",
    "                                       Search=('TrafficSources.Search', 'mean'),\n",
    "                                       Direct=('TrafficSources.Direct', 'mean'),\n",
    "                                       Social=('TrafficSources.Social', 'mean')).round(2).reset_index()"
   ]
  },
  {
   "cell_type": "code",
   "execution_count": null,
   "id": "f2e6eedf-a683-4a27-bfee-210c08114543",
   "metadata": {},
   "outputs": [],
   "source": [
    "df_mentions = df_pages_m.groupby(['Details Page URL', 'main_category']).agg(Mentions=('main_category', 'count'),\n",
    "                                                                            Avg_visits=('Engagments.Visits', 'mean'),\n",
    "                                                                            Avg_time=('Engagments.TimeOnSite', 'mean'),\n",
    "                                                                            Avg_pages=('Engagments.PagePerVisit', 'mean'),\n",
    "                                                                            Avg_rank=('GlobalRank.Rank', 'mean')).round(2).reset_index()"
   ]
  },
  {
   "cell_type": "code",
   "execution_count": null,
   "id": "86dde1c1-2616-400a-be8e-31b6966c70d9",
   "metadata": {},
   "outputs": [],
   "source": [
    "df_mentions.to_csv('data/News/publications_metrics_mean.tsv', sep='\\t', index=False)"
   ]
  },
  {
   "cell_type": "code",
   "execution_count": null,
   "id": "28ed17a5",
   "metadata": {},
   "outputs": [],
   "source": [
    "df_pages.loc[df_pages['main_category']!='news_and_media', 'main_category'] = 'specialized_media'"
   ]
  },
  {
   "cell_type": "code",
   "execution_count": null,
   "id": "c0472c89",
   "metadata": {},
   "outputs": [],
   "source": [
    "df_pages.groupby('main_category').agg(Websites=('main_category', 'count'),\n",
    "                                      Local=('Local', 'sum'),\n",
    "                                      Three_Visits=('EstimatedMonthlyVisits', 'mean'),\n",
    "                                      Visits=('Engagments.Visits', 'mean'),\n",
    "                                      Time_Visits=('Engagments.TimeOnSite', 'mean'),\n",
    "                                      Page_Visit=('Engagments.PagePerVisit', 'mean'),\n",
    "                                      Small=('IsSmall', 'sum'),\n",
    "                                      Rank=('GlobalRank.Rank', 'mean'),\n",
    "                                      Bounce=('Engagments.BounceRate', 'mean'),\n",
    "                                      Search=('TrafficSources.Search', 'mean'),\n",
    "                                      Direct=('TrafficSources.Direct', 'mean'),\n",
    "                                      Social=('TrafficSources.Social', 'mean')).round(2).reset_index().sort_values(by='Websites', ascending=False)"
   ]
  },
  {
   "cell_type": "code",
   "execution_count": null,
   "id": "0e67d486",
   "metadata": {},
   "outputs": [],
   "source": [
    "df_pages.groupby('main_category').agg(Websites=('main_category', 'count'),\n",
    "                                      Local=('Local', 'sum'),\n",
    "                                      Three_Visits=('EstimatedMonthlyVisits', 'median'),\n",
    "                                      Visits=('Engagments.Visits', 'median'),\n",
    "                                      Time_Visits=('Engagments.TimeOnSite', 'median'),\n",
    "                                      Page_Visit=('Engagments.PagePerVisit', 'median'),\n",
    "                                      Small=('IsSmall', 'sum'),\n",
    "                                      Rank=('GlobalRank.Rank', 'median'),\n",
    "                                      Bounce=('Engagments.BounceRate', 'median'),\n",
    "                                      Search=('TrafficSources.Search', 'median'),\n",
    "                                      Direct=('TrafficSources.Direct', 'median'),\n",
    "                                      Social=('TrafficSources.Social', 'median')).round(2).reset_index().sort_values(by='Websites', ascending=False)"
   ]
  },
  {
   "cell_type": "code",
   "execution_count": null,
   "id": "aede3ce6-00e6-4a2e-9837-b6f3e6ea2960",
   "metadata": {},
   "outputs": [],
   "source": [
    "df_pages_m.loc[df_pages_m['main_category']!='news_and_media', 'main_category'] = 'specialized_media'"
   ]
  },
  {
   "cell_type": "code",
   "execution_count": null,
   "id": "d17bbdca",
   "metadata": {},
   "outputs": [],
   "source": [
    "df_pages_m.groupby('main_category').agg(Mentions=('main_category', 'count'),\n",
    "                                        Local=('Local', 'sum'),\n",
    "                                        Papers=('Details Page URL', 'nunique'),\n",
    "                                        Three_Visits=('EstimatedMonthlyVisits', 'mean'),\n",
    "                                        Visits=('Engagments.Visits', 'mean'),\n",
    "                                        Time_Visits=('Engagments.TimeOnSite', 'mean'),\n",
    "                                        Page_Visit=('Engagments.PagePerVisit', 'mean'),\n",
    "                                        Small=('IsSmall', 'sum'),\n",
    "                                        Rank=('GlobalRank.Rank', 'mean'),\n",
    "                                        Bounce=('Engagments.BounceRate', 'mean'),\n",
    "                                        Search=('TrafficSources.Search', 'mean'),\n",
    "                                        Direct=('TrafficSources.Direct', 'mean'),\n",
    "                                        Social=('TrafficSources.Social', 'mean')).round(2).reset_index()"
   ]
  },
  {
   "cell_type": "code",
   "execution_count": null,
   "id": "7d2c4c41",
   "metadata": {},
   "outputs": [],
   "source": [
    "df_mentions = df_pages_m.groupby(['Details Page URL', 'main_category']).agg(Mentions=('main_category', 'count'),\n",
    "                                                                            Avg_visits=('Engagments.Visits', 'mean'),\n",
    "                                                                            Avg_time=('Engagments.TimeOnSite', 'mean'),\n",
    "                                                                            Avg_pages=('Engagments.PagePerVisit', 'mean'),\n",
    "                                                                            Avg_rank=('GlobalRank.Rank', 'mean'),\n",
    "                                                                            Avg_bounce=('Engagments.BounceRate', 'mean'),).round(2).reset_index()"
   ]
  },
  {
   "cell_type": "code",
   "execution_count": null,
   "id": "5e4850e5",
   "metadata": {},
   "outputs": [],
   "source": [
    "df_mentions.to_csv('data/News/publications_metrics_mean_special.tsv', sep='\\t', index=False)"
   ]
  },
  {
   "cell_type": "code",
   "execution_count": null,
   "id": "b2c9c142-aec6-4533-89db-ac7b31eb468d",
   "metadata": {},
   "outputs": [],
   "source": [
    "df_pages_m.to_csv('data/News/publications_metrics.tsv', encoding='UTF-8', sep='\\t', index=False)"
   ]
  }
 ],
 "metadata": {
  "kernelspec": {
   "display_name": "Python 3 (ipykernel)",
   "language": "python",
   "name": "python3"
  },
  "language_info": {
   "codemirror_mode": {
    "name": "ipython",
    "version": 3
   },
   "file_extension": ".py",
   "mimetype": "text/x-python",
   "name": "python",
   "nbconvert_exporter": "python",
   "pygments_lexer": "ipython3",
   "version": "3.9.7"
  }
 },
 "nbformat": 4,
 "nbformat_minor": 5
}
