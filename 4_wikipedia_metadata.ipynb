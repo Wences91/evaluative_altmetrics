{
 "cells": [
  {
   "cell_type": "markdown",
   "id": "f64e20d4-d4e8-4c40-a692-dfa98cc882be",
   "metadata": {},
   "source": [
    "# Packages"
   ]
  },
  {
   "cell_type": "code",
   "execution_count": null,
   "id": "85852b35-55ba-4e4d-9cc6-dcf3a3235e0a",
   "metadata": {},
   "outputs": [],
   "source": [
    "import pandas as pd\n",
    "import requests\n",
    "import json\n",
    "from functions_alt import wiki_ores, wikipedia_data, wikipedia_views"
   ]
  },
  {
   "cell_type": "markdown",
   "id": "069b92f6-3620-4e19-9c67-266544c07ebc",
   "metadata": {},
   "source": [
    "# 1. Altmetric mentions"
   ]
  },
  {
   "cell_type": "code",
   "execution_count": null,
   "id": "b3dc2154-fac7-4ffe-a5b0-9b551057cf8d",
   "metadata": {},
   "outputs": [],
   "source": [
    "df = pd.read_csv('data/wikipedia_mentions.tsv', sep='\\t', encoding='UTF-8', dtype={'Outlet or Author':'string', 'External Mention ID':'string'})\n",
    "df.shape"
   ]
  },
  {
   "cell_type": "markdown",
   "id": "feae71f0-40d6-4920-82dc-6a262ab9d240",
   "metadata": {},
   "source": [
    "The URL of the citation is processed, which includes the revision of the Wikipedia that made the citation."
   ]
  },
  {
   "cell_type": "markdown",
   "id": "4f5a5ce8-88d4-42ae-9b08-25a89a5cf03d",
   "metadata": {},
   "source": [
    "First, the language of Wikipedia is identified."
   ]
  },
  {
   "cell_type": "code",
   "execution_count": null,
   "id": "37dde47f-b7ff-45b2-a14a-d7dd0fcb77a3",
   "metadata": {},
   "outputs": [],
   "source": [
    "df['Wikipedia_lg'] = df['Mention URL'].str.replace('^http://', '', regex=True)\n",
    "df['Wikipedia_lg'] = df['Wikipedia_lg'].str.replace('\\.wikipedia.*$', '', regex=True)\n",
    "df['Wikipedia_lg']"
   ]
  },
  {
   "cell_type": "markdown",
   "id": "6b14451e-c170-48c6-bed2-64f54cf09c55",
   "metadata": {},
   "source": [
    "Second, the revision number is identified."
   ]
  },
  {
   "cell_type": "code",
   "execution_count": null,
   "id": "f3078717-0595-4e7b-a4cc-f86be490c07a",
   "metadata": {},
   "outputs": [],
   "source": [
    "df['Wikipedia_rev'] = df['Mention URL'].str.replace('^.*oldid=|#.*', '', regex=True)\n",
    "df['Wikipedia_rev']"
   ]
  },
  {
   "cell_type": "markdown",
   "id": "4db3d87c-fe11-472c-ad05-802e19532360",
   "metadata": {},
   "source": [
    "# 2. Wikipedia API"
   ]
  },
  {
   "cell_type": "markdown",
   "id": "b46e13a0-9d07-48c5-b0c9-38dc7dc0b289",
   "metadata": {},
   "source": [
    "## 2.1. Redirects"
   ]
  },
  {
   "cell_type": "markdown",
   "id": "4e86f84c-7b44-49e9-8415-2253d9d55b3f",
   "metadata": {},
   "source": [
    "The user and page id (redirects are solved) are retrieved, this allow us to identify mentions with errors."
   ]
  },
  {
   "cell_type": "code",
   "execution_count": null,
   "id": "418de6c9-ee62-4e84-aa0d-d82a66d7b825",
   "metadata": {},
   "outputs": [],
   "source": [
    "df['pageid'] = None\n",
    "df['user'] = None\n",
    "\n",
    "for i in range(df.shape[0]):\n",
    "    lang=df['Wikipedia_lg'][i]\n",
    "    revid=df['Wikipedia_rev'][i]\n",
    "    \n",
    "    try:\n",
    "        url_info = 'https://'+lang+'.wikipedia.org/w/api.php?action=query&prop=revisions&rvprop=user&revids='+revid+'&format=json'\n",
    "\n",
    "        query_info = requests.get(url_info, verify=False)\n",
    "        response_info = json.loads(query_info.text)\n",
    "        pageid = [x for x in response_info['query']['pages']][0]\n",
    "        df.loc[i, 'pageid'] = pageid\n",
    "        df.loc[i, 'user'] = response_info['query']['pages'][pageid]['revisions'][0]['user']\n",
    "        \n",
    "    except:\n",
    "        pass"
   ]
  },
  {
   "cell_type": "code",
   "execution_count": null,
   "id": "60191047-7757-4b42-bcb7-233519cb8d30",
   "metadata": {},
   "outputs": [],
   "source": [
    "df = df[~df['pageid'].isna()].copy().reset_index(drop=True)\n",
    "df.shape"
   ]
  },
  {
   "cell_type": "markdown",
   "id": "ed2f3c04-a514-4f91-bc09-442162e57909",
   "metadata": {},
   "source": [
    "## 2.2. ORES"
   ]
  },
  {
   "cell_type": "markdown",
   "id": "be67af2b-3003-41a7-9a09-7f3581737f87",
   "metadata": {},
   "source": [
    "Finally, the Quality and Topic are predicted for each mention (not all languages include it)."
   ]
  },
  {
   "cell_type": "code",
   "execution_count": null,
   "id": "7f46b055-3fb3-4618-8a08-2bae4c03c4df",
   "metadata": {},
   "outputs": [],
   "source": [
    "df_aux = wiki_ores(df[['Wikipedia_lg', 'Wikipedia_rev']])"
   ]
  },
  {
   "cell_type": "code",
   "execution_count": null,
   "id": "6f1308b2-9fc1-4eb3-ba42-85e21b265ba1",
   "metadata": {},
   "outputs": [],
   "source": [
    "df_aux.major_topic.value_counts()"
   ]
  },
  {
   "cell_type": "code",
   "execution_count": null,
   "id": "e863c08f-d74e-45a7-8eee-df1dce3e4a1d",
   "metadata": {},
   "outputs": [],
   "source": [
    "df_aux.drop_duplicates().shape[0]==len(set(df_aux.revid))"
   ]
  },
  {
   "cell_type": "code",
   "execution_count": null,
   "id": "ce96f910-c789-491c-b978-f86d054a1735",
   "metadata": {},
   "outputs": [],
   "source": [
    "df = df.merge(df_aux.drop_duplicates(), how='inner', left_on=['Wikipedia_lg', 'Wikipedia_rev'], right_on=['wiki', 'revid'])\n",
    "df.drop(['wiki', 'revid'], axis=1, inplace=True)"
   ]
  },
  {
   "cell_type": "code",
   "execution_count": null,
   "id": "82f63bd4-b56d-4533-b8e7-811bb6dcae58",
   "metadata": {},
   "outputs": [],
   "source": [
    "df.to_csv('data/Wikipedia/mentions.tsv', sep='\\t', index=False, encoding='UTF-8')"
   ]
  },
  {
   "cell_type": "markdown",
   "id": "d83ffd85-dc2c-4f04-a4af-9cdc1b381852",
   "metadata": {},
   "source": [
    "## 2.3. Pages metadata"
   ]
  },
  {
   "cell_type": "markdown",
   "id": "5219b090-c377-4562-983c-acbc8140ee72",
   "metadata": {},
   "source": [
    "The API is then queried to obtain the page ID and thereby retrieve all the metadata of the Wikipedia pages."
   ]
  },
  {
   "cell_type": "code",
   "execution_count": null,
   "id": "f22bc011-be38-425b-b07a-7fed0fc7b5c9",
   "metadata": {},
   "outputs": [],
   "source": [
    "df_pages = df[['Mention Title', 'Wikipedia_lg', 'pageid']].drop_duplicates()\n",
    "df_pages.rename({'pageid':'Wikipedia_page_id'}, axis=1, inplace=True)\n",
    "df_pages.reset_index(drop=True, inplace=True)"
   ]
  },
  {
   "cell_type": "markdown",
   "id": "0b95cf92-ad13-4549-9c0f-8f9af5ccbf9d",
   "metadata": {},
   "source": [
    "### 2.3.1. Languages"
   ]
  },
  {
   "cell_type": "code",
   "execution_count": null,
   "id": "34036a80-4167-43af-aa86-950efe0aba60",
   "metadata": {},
   "outputs": [],
   "source": [
    "df_pages['langs'] = 0\n",
    "\n",
    "for i in range(df_pages.shape[0]):\n",
    "    url_query = 'https://' + df_pages.loc[i,'Wikipedia_lg'] + '.wikipedia.org/w/api.php?action=query&prop=langlinks&format=json&lllimit=max&llprop=url&pageids=' + df_pages.loc[i,'Wikipedia_page_id']\n",
    "    query_json = requests.get(url_query).json()\n",
    "    try:\n",
    "        df_pages.loc[i,'langs'] = len([x['lang'] for x in query_json['query']['pages'][df_pages.loc[i,'Wikipedia_page_id']]['langlinks']])\n",
    "    except:\n",
    "        pass\n",
    "\n",
    "df_pages['langs'] = df_pages['langs']+1"
   ]
  },
  {
   "cell_type": "markdown",
   "id": "2b08333c-3be9-4b7e-9907-08686354629a",
   "metadata": {},
   "source": [
    "### 2.3.2. Metrics"
   ]
  },
  {
   "cell_type": "markdown",
   "id": "2d3e2916-5fe6-4887-85c1-8b4df5f02548",
   "metadata": {},
   "source": [
    "Before making the API request, a URL needs to be constructed."
   ]
  },
  {
   "cell_type": "code",
   "execution_count": null,
   "id": "3bb67a5d-3d7c-406c-a36e-d0f47f624a2d",
   "metadata": {},
   "outputs": [],
   "source": [
    "df_pages['url'] = df_pages['Wikipedia_lg'] + '.wikipedia.org/' + df_pages['Mention Title']"
   ]
  },
  {
   "cell_type": "code",
   "execution_count": null,
   "id": "92ec1d3b-78b0-419a-b181-6a62263bfeb1",
   "metadata": {},
   "outputs": [],
   "source": [
    "wikidata = wikipedia_data(df_pages['url'].tolist())"
   ]
  },
  {
   "cell_type": "code",
   "execution_count": null,
   "id": "3ca8e1cc-1dd1-4f58-8322-b7e4abac4c26",
   "metadata": {},
   "outputs": [],
   "source": [
    "wikiviews = wikipedia_views(df_pages['url'].tolist())"
   ]
  },
  {
   "cell_type": "code",
   "execution_count": null,
   "id": "377ca000-d92b-4f41-a91f-c2dd466ea46b",
   "metadata": {},
   "outputs": [],
   "source": [
    "wikiviews['pageviews'] = wikiviews.sum(numeric_only=True, axis=1)"
   ]
  },
  {
   "cell_type": "code",
   "execution_count": null,
   "id": "90de8ac7-746d-4613-a961-96f3e2fcf817",
   "metadata": {},
   "outputs": [],
   "source": [
    "wikidata = wikidata.merge(wikiviews[['page_title', 'pageviews']], how='inner', left_on='url', right_on='page_title').drop('page_title', axis=1)"
   ]
  },
  {
   "cell_type": "code",
   "execution_count": null,
   "id": "e36328ea-282d-4b1a-bfee-4e2f8d26426b",
   "metadata": {},
   "outputs": [],
   "source": [
    "df_pages = df_pages.merge(wikidata, how='inner', on='url')"
   ]
  },
  {
   "cell_type": "markdown",
   "id": "0593065f-58a2-434b-9974-5464ba602ca9",
   "metadata": {},
   "source": [
    "Add topics."
   ]
  },
  {
   "cell_type": "code",
   "execution_count": null,
   "id": "55fd1398-70a2-4004-90a9-a29dd105d15b",
   "metadata": {},
   "outputs": [],
   "source": [
    "df_pages = df_pages.merge(df[['Mention Title', 'Wikipedia_lg', 'major_topic']].drop_duplicates(), how='inner', on=['Mention Title', 'Wikipedia_lg'])"
   ]
  },
  {
   "cell_type": "markdown",
   "id": "5d2008ba-3064-4222-a8c4-b03451539a94",
   "metadata": {},
   "source": [
    "## 2.4. ORES (Enlgish)"
   ]
  },
  {
   "cell_type": "markdown",
   "id": "28e9dd1a-ba40-4243-b835-518407066a6e",
   "metadata": {},
   "source": [
    "As it has not been possible to identify the topics of all pages, the topics of the respective English editions will be retrieved."
   ]
  },
  {
   "cell_type": "code",
   "execution_count": null,
   "id": "2edc493d-adad-47ce-a328-98567e6b9a31",
   "metadata": {},
   "outputs": [],
   "source": [
    "df_page_no = df_pages[df_pages['major_topic'].isna()].reset_index(drop=True).copy()"
   ]
  },
  {
   "cell_type": "code",
   "execution_count": null,
   "id": "9e0de705-b056-425d-8369-45626e434a81",
   "metadata": {},
   "outputs": [],
   "source": [
    "df_int_lg = pd.DataFrame(columns=['page_id', 'lang_link', 'title_link'])\n",
    "\n",
    "for i in range(df_page_no.shape[0]):\n",
    "    lang=df_page_no['Wikipedia_lg'][i]\n",
    "    title=df_page_no['Mention Title'][i]\n",
    "    pageid=df_page_no['Wikipedia_page_id'][i]\n",
    "    \n",
    "    try:\n",
    "        url_info = 'https://'+lang+'.wikipedia.org/w/api.php?action=query&prop=langlinks&titles='+title+'&lllimit=500&format=json'\n",
    "        query_info = requests.get(url_info, verify=False)\n",
    "        response_info = json.loads(query_info.text)\n",
    "        \n",
    "        for j in response_info['query']['pages'][pageid]['langlinks']:\n",
    "            df_int_lg = pd.concat([df_int_lg,\n",
    "                                   pd.DataFrame({'page_id':pageid,\n",
    "                                                 'lang_link':j['lang'],\n",
    "                                                 'title_link':j['*']}, index=[0])])\n",
    "    except:\n",
    "        pass\n",
    "\n",
    "df_int_lg = df_int_lg[df_int_lg['lang_link']=='en'].reset_index(drop=True)"
   ]
  },
  {
   "cell_type": "code",
   "execution_count": null,
   "id": "3ba08123-7349-4b9c-a966-18f1679be78d",
   "metadata": {},
   "outputs": [],
   "source": [
    "df_int_lg['revid'] = None\n",
    "\n",
    "for i in range(df_int_lg.shape[0]):\n",
    "    lang=df_int_lg['lang_link'][i]\n",
    "    pageti=df_int_lg['title_link'][i]\n",
    "    \n",
    "    try:\n",
    "        url_info = 'https://'+lang+'.wikipedia.org/w/api.php?action=query&titles='+pageti+'&prop=revisions&rvprop=ids&rvslots=%2A&format=json'\n",
    "\n",
    "        query_info = requests.get(url_info, verify=False)\n",
    "        response_info = json.loads(query_info.text)\n",
    "        pageid = [x for x in response_info['query']['pages']][0]\n",
    "        df_int_lg['revid'][i] = response_info['query']['pages'][pageid]['revisions'][0]['revid']\n",
    "        \n",
    "    except:\n",
    "        pass"
   ]
  },
  {
   "cell_type": "code",
   "execution_count": null,
   "id": "1f3ba491-a330-4aac-8914-5e7b2d2dfae2",
   "metadata": {},
   "outputs": [],
   "source": [
    "df_int_lg.rename({'lang_link':'Wikipedia_lg', 'revid':'Wikipedia_rev'}, axis=1, inplace=True)\n",
    "df_int_lg.Wikipedia_rev = df_int_lg.Wikipedia_rev.astype('str')"
   ]
  },
  {
   "cell_type": "code",
   "execution_count": null,
   "id": "d05e1ee3-91fa-48ff-aa48-20d85601ba21",
   "metadata": {},
   "outputs": [],
   "source": [
    "df_int_lg_aux = wiki_ores(df_int_lg[['Wikipedia_lg', 'Wikipedia_rev']])"
   ]
  },
  {
   "cell_type": "code",
   "execution_count": null,
   "id": "91bad09e-5307-4205-977e-16d8bf17e8cf",
   "metadata": {},
   "outputs": [],
   "source": [
    "df_int_lg = df_int_lg.merge(df_int_lg_aux[~df_int_lg_aux.major_topic.isna()][['wiki', 'revid', 'major_topic']], how='inner', left_on=['Wikipedia_lg', 'Wikipedia_rev'], right_on=['wiki', 'revid'])\n",
    "df_int_lg = df_int_lg[['page_id', 'major_topic']].drop_duplicates()"
   ]
  },
  {
   "cell_type": "code",
   "execution_count": null,
   "id": "b8236871-6f8d-4ae8-8d47-9ae1c7a2d03e",
   "metadata": {},
   "outputs": [],
   "source": [
    "df_pages = df_pages.merge(df_int_lg, how='left', left_on='Wikipedia_page_id', right_on='page_id')"
   ]
  },
  {
   "cell_type": "code",
   "execution_count": null,
   "id": "b6fadd69-5c0a-404f-8077-9960d8162c22",
   "metadata": {},
   "outputs": [],
   "source": [
    "df_pages.loc[df_pages['major_topic_x'].isna(),'major_topic_x'] = df_pages.loc[df_pages['major_topic_x'].isna(), 'major_topic_y']"
   ]
  },
  {
   "cell_type": "code",
   "execution_count": null,
   "id": "4c0101f0-eac1-4a41-b35a-4699504b8f62",
   "metadata": {},
   "outputs": [],
   "source": [
    "df_pages.rename({'major_topic_x':'major_topic'}, axis=1, inplace=True)\n",
    "df_pages.drop(['major_topic_y', 'page_id'], axis=1, inplace=True)"
   ]
  },
  {
   "cell_type": "code",
   "execution_count": null,
   "id": "f67f3c61-4b69-49e9-989a-444221e54626",
   "metadata": {},
   "outputs": [],
   "source": [
    "df_pages.to_csv('data/Wikipedia/pages.tsv', sep='\\t', index=False, encoding='UTF-8')"
   ]
  }
 ],
 "metadata": {
  "kernelspec": {
   "display_name": "Python 3 (ipykernel)",
   "language": "python",
   "name": "python3"
  },
  "language_info": {
   "codemirror_mode": {
    "name": "ipython",
    "version": 3
   },
   "file_extension": ".py",
   "mimetype": "text/x-python",
   "name": "python",
   "nbconvert_exporter": "python",
   "pygments_lexer": "ipython3",
   "version": "3.9.7"
  }
 },
 "nbformat": 4,
 "nbformat_minor": 5
}
