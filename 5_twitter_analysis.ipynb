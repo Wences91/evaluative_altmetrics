{
 "cells": [
  {
   "cell_type": "markdown",
   "id": "f5173f65-c651-4e00-8204-c0fb8b017e5b",
   "metadata": {},
   "source": [
    "# Packages"
   ]
  },
  {
   "cell_type": "code",
   "execution_count": null,
   "id": "261a38f4-9bfa-40a2-83ca-5f9a37ac5c7f",
   "metadata": {},
   "outputs": [],
   "source": [
    "import pandas as pd\n",
    "import seaborn as sns"
   ]
  },
  {
   "cell_type": "markdown",
   "id": "fb816c3f-e997-4d0e-accd-3bff42d30d5c",
   "metadata": {},
   "source": [
    "# 1. Data import"
   ]
  },
  {
   "cell_type": "markdown",
   "id": "8d6cc0a2-88eb-45eb-8a8f-f0ca9807fe02",
   "metadata": {},
   "source": [
    "## 1.1. Mentions"
   ]
  },
  {
   "cell_type": "code",
   "execution_count": null,
   "id": "6cb5652d-10be-4587-9c54-73ec32ac73f5",
   "metadata": {},
   "outputs": [],
   "source": [
    "df = pd.read_csv('data/twitter_mentions.tsv', sep='\\t', encoding='UTF-8', dtype={'Outlet or Author':'string', 'External Mention ID':'string'})\n",
    "df.shape"
   ]
  },
  {
   "cell_type": "markdown",
   "id": "15d14849-c004-45ef-91fa-a571e5952482",
   "metadata": {},
   "source": [
    "## 1.3. Tweeters metadata"
   ]
  },
  {
   "cell_type": "code",
   "execution_count": null,
   "id": "04d7a3dd-3dba-42f9-aa38-7afc27423919",
   "metadata": {},
   "outputs": [],
   "source": [
    "df_te = pd.read_csv('data/Twitter/tweeters_metadata.tsv', sep='\\t', encoding='UTF-8', dtype={'id_str':'string'})\n",
    "df_te.shape"
   ]
  },
  {
   "cell_type": "markdown",
   "id": "7d7c502d-068d-4ea9-b90f-b6854549b57c",
   "metadata": {},
   "source": [
    "## 1.2. Tweets metadata"
   ]
  },
  {
   "cell_type": "code",
   "execution_count": null,
   "id": "1d305834-0568-4703-9ddf-db5341545249",
   "metadata": {},
   "outputs": [],
   "source": [
    "df_tw = pd.read_csv('data/Twitter/tweets_metadata.tsv', sep='\\t', encoding='UTF-8', dtype={'id_str':'string', 'user.id_str':'string'})\n",
    "df_tw.shape"
   ]
  },
  {
   "cell_type": "markdown",
   "id": "6022a3c4-8a94-4562-ba20-391df5c362dd",
   "metadata": {},
   "source": [
    "Tweeters' data and their tweets are matched to avoid inconsistencies."
   ]
  },
  {
   "cell_type": "code",
   "execution_count": null,
   "id": "2ca538c6-97ff-4a23-9ba3-4c1302ef95ae",
   "metadata": {},
   "outputs": [],
   "source": [
    "df_tw = df_tw[df_tw['user.id_str'].isin(df_te.id_str)].copy()\n",
    "df_tw.shape"
   ]
  },
  {
   "cell_type": "code",
   "execution_count": null,
   "id": "5fe5a8df-2add-49e9-a9db-05299d469c6f",
   "metadata": {},
   "outputs": [],
   "source": [
    "df_te = df_te[df_te['id_str'].isin(df_tw['user.id_str'])].copy()\n",
    "df_te.shape"
   ]
  },
  {
   "cell_type": "markdown",
   "id": "2064bfdc-fd2f-43ab-acd4-aa8b0115d74f",
   "metadata": {},
   "source": [
    "Minor adjustments to correctly identify different types of tweets."
   ]
  },
  {
   "cell_type": "markdown",
   "id": "957116c5-d909-4a8f-ad54-54e6c8c1bb98",
   "metadata": {},
   "source": [
    "When a tweet is retweeted, the characteristics of this tweet are ignored."
   ]
  },
  {
   "cell_type": "code",
   "execution_count": null,
   "id": "32ce701a-2aa5-4c5d-8f98-9da1bed91260",
   "metadata": {},
   "outputs": [],
   "source": [
    "df_tw.loc[df_tw['is_retweet'], 'is_quote_status'] = False"
   ]
  },
  {
   "cell_type": "markdown",
   "id": "85b202b3-9a81-47aa-b071-9a61e2685a33",
   "metadata": {},
   "source": [
    "When a tweet is in response to another, it is identified."
   ]
  },
  {
   "cell_type": "code",
   "execution_count": null,
   "id": "0415010d-03cf-4a3e-b426-c03bbb81f80d",
   "metadata": {},
   "outputs": [],
   "source": [
    "df_tw['is_reply'] = False\n",
    "df_tw.loc[~df_tw['in_reply_to_status_id_str'].isna(), 'is_reply'] = True"
   ]
  },
  {
   "cell_type": "markdown",
   "id": "c0784990-bcd6-45a5-8706-a51125f45fda",
   "metadata": {},
   "source": [
    "Finally, \"normal\" tweets are identified when they do not fall into any of the other categories."
   ]
  },
  {
   "cell_type": "code",
   "execution_count": null,
   "id": "3ba0c90f-9f4c-4e90-99ec-1dd185b4cdf9",
   "metadata": {},
   "outputs": [],
   "source": [
    "df_tw['is_tweet'] = False\n",
    "df_tw.loc[(df_tw['is_retweet']==False) & (df_tw['is_quote_status']==False) & (df_tw['is_reply']==False), 'is_tweet'] = True"
   ]
  },
  {
   "cell_type": "markdown",
   "id": "72c85ce9-88af-48d0-996a-1ee9ce730acf",
   "metadata": {},
   "source": [
    "It should be noted that there may be overlaps, especially between replies and quotes."
   ]
  },
  {
   "cell_type": "code",
   "execution_count": null,
   "id": "188326f6-316b-43e2-b96b-872ac89c6905",
   "metadata": {},
   "outputs": [],
   "source": [
    "df_tw.loc[df_tw['is_reply'] & df_tw['is_quote_status'], 'id_str']"
   ]
  },
  {
   "cell_type": "markdown",
   "id": "b142e770-fcf1-4642-8f88-7ba32992cfb2",
   "metadata": {},
   "source": [
    "## 1.4. Researchers"
   ]
  },
  {
   "cell_type": "code",
   "execution_count": null,
   "id": "95d6b1db-1e03-4660-8f00-120d9c5c7734",
   "metadata": {},
   "outputs": [],
   "source": [
    "df_r = pd.read_csv('data/Twitter/authors_tweeters_2022_08_21.csv', sep=',', encoding='UTF-8', dtype={'tweeter_id':'string'})\n",
    "df_r.shape"
   ]
  },
  {
   "cell_type": "markdown",
   "id": "3a71c543-38a4-441b-843e-048b4863bcf4",
   "metadata": {},
   "source": [
    "## 1.5. Bots"
   ]
  },
  {
   "cell_type": "code",
   "execution_count": null,
   "id": "1e88f107-cfc0-4eb5-9344-4db36b4f8377",
   "metadata": {},
   "outputs": [],
   "source": [
    "df_b = pd.read_csv('data/Twitter/tweeters_bots.tsv', sep='\\t', encoding='UTF-8', dtype={'user_id':'string'})\n",
    "df_b.shape"
   ]
  },
  {
   "cell_type": "code",
   "execution_count": null,
   "id": "9114c889-77ab-4685-8b5d-f2f33dcc5cc8",
   "metadata": {},
   "outputs": [],
   "source": [
    "sns.kdeplot(df_b['score_over'], fill=True)"
   ]
  },
  {
   "cell_type": "code",
   "execution_count": null,
   "id": "97185539-c7e9-4979-80a9-52a2b2879e55",
   "metadata": {},
   "outputs": [],
   "source": [
    "df_b = df_b[df_b['score_over']>4].copy()\n",
    "df_b.shape"
   ]
  },
  {
   "cell_type": "markdown",
   "id": "5674ced5-5bc1-4ef0-a657-2649c0a9c2a5",
   "metadata": {},
   "source": [
    "# 2. Tweeters"
   ]
  },
  {
   "cell_type": "markdown",
   "id": "94b272fa-f170-4d63-bd3a-7262f958bd98",
   "metadata": {},
   "source": [
    "By default, all actors are assigned as Social, except those that have been identified as bots, researchers or journals."
   ]
  },
  {
   "cell_type": "code",
   "execution_count": null,
   "id": "3a4543bd-3886-4b29-9298-a2d7663795b8",
   "metadata": {},
   "outputs": [],
   "source": [
    "df_te['Type'] = 'Social'"
   ]
  },
  {
   "cell_type": "code",
   "execution_count": null,
   "id": "0d09f4f8-047d-462f-905b-efea1ed50309",
   "metadata": {},
   "outputs": [],
   "source": [
    "df_te.loc[df_te['id_str'].isin(df_b.user_id), 'Type'] = 'Bot'"
   ]
  },
  {
   "cell_type": "code",
   "execution_count": null,
   "id": "4e137c20-f531-45af-841c-08311f3da09d",
   "metadata": {},
   "outputs": [],
   "source": [
    "df_te.loc[df_te['id_str'].isin(df_r.tweeter_id), 'Type'] = 'Researcher'"
   ]
  },
  {
   "cell_type": "markdown",
   "id": "e454588a-4367-477a-878b-27f8a97dfb6f",
   "metadata": {},
   "source": [
    "Most of them are social an researchers."
   ]
  },
  {
   "cell_type": "code",
   "execution_count": null,
   "id": "e21690e6-65ab-4381-85b8-8563d8835124",
   "metadata": {},
   "outputs": [],
   "source": [
    "df_te['Type'].value_counts()"
   ]
  },
  {
   "cell_type": "markdown",
   "id": "6704f2ec-5717-47a2-8d57-5851140f0cce",
   "metadata": {},
   "source": [
    "## 2.1. Profile stats"
   ]
  },
  {
   "cell_type": "code",
   "execution_count": null,
   "id": "c638bcab-b506-4e7c-af76-c07a4495f859",
   "metadata": {},
   "outputs": [],
   "source": [
    "df_te.groupby(['Type']).agg(Tweeters=('Type', 'count'),\n",
    "                            Followers=('followers_count', 'mean'),\n",
    "                            Friends=('friends_count', 'mean'),\n",
    "                            Tweets=('statuses_count', 'mean')).round(2).reset_index()"
   ]
  },
  {
   "cell_type": "code",
   "execution_count": null,
   "id": "036d6c67-261e-434a-b682-0ae6badbb6a7",
   "metadata": {},
   "outputs": [],
   "source": [
    "df_te.groupby(['Type']).agg(Tweeters=('Type', 'count'),\n",
    "                            Followers=('followers_count', 'median'),\n",
    "                            Friends=('friends_count', 'median'),\n",
    "                            Tweets=('statuses_count', 'median')).reset_index()"
   ]
  },
  {
   "cell_type": "markdown",
   "id": "8dac0750-3484-4af9-a6f0-2f2748f7b385",
   "metadata": {},
   "source": [
    "## 2.2. Activity stats"
   ]
  },
  {
   "cell_type": "code",
   "execution_count": null,
   "id": "b3e28348-d815-4aa1-aeb1-ef7e323ac085",
   "metadata": {},
   "outputs": [],
   "source": [
    "df_te_tw = df_te.merge(df_tw, left_on='id_str', right_on='user.id_str', how='inner')"
   ]
  },
  {
   "cell_type": "code",
   "execution_count": null,
   "id": "3d92ca17-b7cf-4b3d-a18e-0b843a9f16d9",
   "metadata": {},
   "outputs": [],
   "source": [
    "df_te_tw.groupby(['Type']).agg(Tweets=('Type', 'count'),\n",
    "                               Quote=('is_quote_status', 'sum'),\n",
    "                               RT=('is_retweet', 'sum'),\n",
    "                               Reply=('is_reply', 'sum'),\n",
    "                               Tweet=('is_tweet', 'sum')).reset_index()"
   ]
  },
  {
   "cell_type": "code",
   "execution_count": null,
   "id": "10e3f634-86cf-4705-99f0-6398336467b8",
   "metadata": {},
   "outputs": [],
   "source": [
    "tweets_lang = df_te_tw[['Type', 'lang_y']].value_counts().reset_index()\n",
    "tweets_lang[tweets_lang['lang_y']=='es']"
   ]
  },
  {
   "cell_type": "markdown",
   "id": "ecab4137-5caf-4f6e-94ae-e3d5c4c17136",
   "metadata": {},
   "source": [
    "## 2.3. Engagement stats"
   ]
  },
  {
   "cell_type": "code",
   "execution_count": null,
   "id": "817cef99-c187-4690-ad99-9ba9030fe337",
   "metadata": {},
   "outputs": [],
   "source": [
    "df_te_tw[~df_te_tw['is_retweet']].groupby(['Type']).agg(Tweets=('Type', 'count'),\n",
    "                                                        RT=('retweet_count', 'mean'),\n",
    "                                                        Favs=('favorite_count', 'mean')).round(2).reset_index()"
   ]
  },
  {
   "cell_type": "code",
   "execution_count": null,
   "id": "7959a385-f67e-485f-927a-ecc2bac66b16",
   "metadata": {},
   "outputs": [],
   "source": [
    "df_te_tw[~df_te_tw['is_retweet']].groupby(['Type']).agg(Tweets=('Type', 'count'),\n",
    "                                                        RT=('retweet_count', 'median'),\n",
    "                                                        Favs=('favorite_count', 'median')).reset_index()"
   ]
  },
  {
   "cell_type": "markdown",
   "id": "03c5b256-9eca-4327-9da4-998db270747c",
   "metadata": {},
   "source": [
    "# 3. Publications"
   ]
  },
  {
   "cell_type": "code",
   "execution_count": null,
   "id": "5fd52a41-0fda-4446-a56f-bdd80fc47937",
   "metadata": {},
   "outputs": [],
   "source": [
    "df = df[['External Mention ID', 'Details Page URL', 'DOI']].merge(df_te_tw, left_on='External Mention ID', right_on='id_str_y', how='inner').copy()\n",
    "df.shape"
   ]
  },
  {
   "cell_type": "code",
   "execution_count": null,
   "id": "5ff0ac73-a96f-44a3-bda1-2cb54ba809a6",
   "metadata": {},
   "outputs": [],
   "source": [
    "df.groupby('Type').agg(Mentions=('Type', 'count')).round(2).reset_index()"
   ]
  },
  {
   "cell_type": "code",
   "execution_count": null,
   "id": "381e10ce-b76c-488e-914f-c294bd197c4b",
   "metadata": {},
   "outputs": [],
   "source": [
    "df_mentions = df[~df['is_retweet']].groupby(['Details Page URL', 'Type']).agg(Mentions=('Details Page URL', 'count'),\n",
    "                                                           Avg_fav=('favorite_count', 'mean'),\n",
    "                                                           Avg_RT=('retweet_count', 'mean'),\n",
    "                                                           Avg_fw=('followers_count', 'mean')).round(2).reset_index()"
   ]
  },
  {
   "cell_type": "code",
   "execution_count": null,
   "id": "29382e2f-43ca-4663-ab6f-a405720102e7",
   "metadata": {},
   "outputs": [],
   "source": [
    "df_mentions_rt = df[df['is_retweet']].groupby(['Details Page URL', 'Type']).agg(RT=('Details Page URL', 'count')).round(2).reset_index()"
   ]
  },
  {
   "cell_type": "code",
   "execution_count": null,
   "id": "ccd4a3cf-42fb-47c6-ac04-5c5691dfff19",
   "metadata": {},
   "outputs": [],
   "source": [
    "df_mentions = df_mentions.merge(df_mentions_rt, how='left', on=['Details Page URL', 'Type'])\n",
    "df_mentions.RT.fillna(0, inplace=True)"
   ]
  },
  {
   "cell_type": "code",
   "execution_count": null,
   "id": "167fb5d1-464f-451f-92d3-2c6f53e3c17e",
   "metadata": {},
   "outputs": [],
   "source": [
    "df_mentions.to_csv('data/Twitter/publications_metrics_mean.tsv', sep='\\t', index=False)"
   ]
  },
  {
   "cell_type": "code",
   "execution_count": null,
   "id": "afe24f60-94a2-42f5-ae0a-72751fea763a",
   "metadata": {},
   "outputs": [],
   "source": [
    "df.to_csv('data/Twitter/publications_metrics.tsv', encoding='UTF-8', sep='\\t', index=False)"
   ]
  }
 ],
 "metadata": {
  "kernelspec": {
   "display_name": "Python 3 (ipykernel)",
   "language": "python",
   "name": "python3"
  },
  "language_info": {
   "codemirror_mode": {
    "name": "ipython",
    "version": 3
   },
   "file_extension": ".py",
   "mimetype": "text/x-python",
   "name": "python",
   "nbconvert_exporter": "python",
   "pygments_lexer": "ipython3",
   "version": "3.9.7"
  }
 },
 "nbformat": 4,
 "nbformat_minor": 5
}
